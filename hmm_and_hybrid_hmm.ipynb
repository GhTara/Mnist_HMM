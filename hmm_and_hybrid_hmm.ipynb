{
  "nbformat": 4,
  "nbformat_minor": 0,
  "metadata": {
    "colab": {
      "name": "hmm and hybrid hmm.ipynb",
      "provenance": [],
      "collapsed_sections": [
        "iiHTeBWgYkYN",
        "YoII58Wbpp6y",
        "9xhcqKSyYwav",
        "G7UqtaKSDne0",
        "wr2rS_hIa_7Q",
        "CJS-P49Tfsav"
      ],
      "include_colab_link": true
    },
    "kernelspec": {
      "display_name": "Python 3",
      "name": "python3"
    },
    "language_info": {
      "name": "python"
    },
    "widgets": {
      "application/vnd.jupyter.widget-state+json": {
        "a7eb0383fdd747e186863c8e7c54241b": {
          "model_module": "@jupyter-widgets/controls",
          "model_name": "HBoxModel",
          "state": {
            "_view_name": "HBoxView",
            "_dom_classes": [],
            "_model_name": "HBoxModel",
            "_view_module": "@jupyter-widgets/controls",
            "_model_module_version": "1.5.0",
            "_view_count": null,
            "_view_module_version": "1.5.0",
            "box_style": "",
            "layout": "IPY_MODEL_9de3e26c28084a45a3f0db869e5f0a13",
            "_model_module": "@jupyter-widgets/controls",
            "children": [
              "IPY_MODEL_a2fed11d2d794eae852f7a013a6cc07b",
              "IPY_MODEL_904e32623d874247a881e78cacd36b62"
            ]
          }
        },
        "9de3e26c28084a45a3f0db869e5f0a13": {
          "model_module": "@jupyter-widgets/base",
          "model_name": "LayoutModel",
          "state": {
            "_view_name": "LayoutView",
            "grid_template_rows": null,
            "right": null,
            "justify_content": null,
            "_view_module": "@jupyter-widgets/base",
            "overflow": null,
            "_model_module_version": "1.2.0",
            "_view_count": null,
            "flex_flow": null,
            "width": null,
            "min_width": null,
            "border": null,
            "align_items": null,
            "bottom": null,
            "_model_module": "@jupyter-widgets/base",
            "top": null,
            "grid_column": null,
            "overflow_y": null,
            "overflow_x": null,
            "grid_auto_flow": null,
            "grid_area": null,
            "grid_template_columns": null,
            "flex": null,
            "_model_name": "LayoutModel",
            "justify_items": null,
            "grid_row": null,
            "max_height": null,
            "align_content": null,
            "visibility": null,
            "align_self": null,
            "height": null,
            "min_height": null,
            "padding": null,
            "grid_auto_rows": null,
            "grid_gap": null,
            "max_width": null,
            "order": null,
            "_view_module_version": "1.2.0",
            "grid_template_areas": null,
            "object_position": null,
            "object_fit": null,
            "grid_auto_columns": null,
            "margin": null,
            "display": null,
            "left": null
          }
        },
        "a2fed11d2d794eae852f7a013a6cc07b": {
          "model_module": "@jupyter-widgets/controls",
          "model_name": "FloatProgressModel",
          "state": {
            "_view_name": "ProgressView",
            "style": "IPY_MODEL_9fb3aeb9976948ab85735076987ba53c",
            "_dom_classes": [],
            "description": "Training HMMs: 100%",
            "_model_name": "FloatProgressModel",
            "bar_style": "success",
            "max": 10,
            "_view_module": "@jupyter-widgets/controls",
            "_model_module_version": "1.5.0",
            "value": 10,
            "_view_count": null,
            "_view_module_version": "1.5.0",
            "orientation": "horizontal",
            "min": 0,
            "description_tooltip": null,
            "_model_module": "@jupyter-widgets/controls",
            "layout": "IPY_MODEL_e08d78afa9394359a395fbddfad9eddd"
          }
        },
        "904e32623d874247a881e78cacd36b62": {
          "model_module": "@jupyter-widgets/controls",
          "model_name": "HTMLModel",
          "state": {
            "_view_name": "HTMLView",
            "style": "IPY_MODEL_e0bf8cddd79741ce837eaa9d9395ae2a",
            "_dom_classes": [],
            "description": "",
            "_model_name": "HTMLModel",
            "placeholder": "​",
            "_view_module": "@jupyter-widgets/controls",
            "_model_module_version": "1.5.0",
            "value": " 10/10 [3:11:55&lt;00:00, 1151.55s/it]",
            "_view_count": null,
            "_view_module_version": "1.5.0",
            "description_tooltip": null,
            "_model_module": "@jupyter-widgets/controls",
            "layout": "IPY_MODEL_61754457c8864775818816121c0e2202"
          }
        },
        "9fb3aeb9976948ab85735076987ba53c": {
          "model_module": "@jupyter-widgets/controls",
          "model_name": "ProgressStyleModel",
          "state": {
            "_view_name": "StyleView",
            "_model_name": "ProgressStyleModel",
            "description_width": "initial",
            "_view_module": "@jupyter-widgets/base",
            "_model_module_version": "1.5.0",
            "_view_count": null,
            "_view_module_version": "1.2.0",
            "bar_color": null,
            "_model_module": "@jupyter-widgets/controls"
          }
        },
        "e08d78afa9394359a395fbddfad9eddd": {
          "model_module": "@jupyter-widgets/base",
          "model_name": "LayoutModel",
          "state": {
            "_view_name": "LayoutView",
            "grid_template_rows": null,
            "right": null,
            "justify_content": null,
            "_view_module": "@jupyter-widgets/base",
            "overflow": null,
            "_model_module_version": "1.2.0",
            "_view_count": null,
            "flex_flow": null,
            "width": null,
            "min_width": null,
            "border": null,
            "align_items": null,
            "bottom": null,
            "_model_module": "@jupyter-widgets/base",
            "top": null,
            "grid_column": null,
            "overflow_y": null,
            "overflow_x": null,
            "grid_auto_flow": null,
            "grid_area": null,
            "grid_template_columns": null,
            "flex": null,
            "_model_name": "LayoutModel",
            "justify_items": null,
            "grid_row": null,
            "max_height": null,
            "align_content": null,
            "visibility": null,
            "align_self": null,
            "height": null,
            "min_height": null,
            "padding": null,
            "grid_auto_rows": null,
            "grid_gap": null,
            "max_width": null,
            "order": null,
            "_view_module_version": "1.2.0",
            "grid_template_areas": null,
            "object_position": null,
            "object_fit": null,
            "grid_auto_columns": null,
            "margin": null,
            "display": null,
            "left": null
          }
        },
        "e0bf8cddd79741ce837eaa9d9395ae2a": {
          "model_module": "@jupyter-widgets/controls",
          "model_name": "DescriptionStyleModel",
          "state": {
            "_view_name": "StyleView",
            "_model_name": "DescriptionStyleModel",
            "description_width": "",
            "_view_module": "@jupyter-widgets/base",
            "_model_module_version": "1.5.0",
            "_view_count": null,
            "_view_module_version": "1.2.0",
            "_model_module": "@jupyter-widgets/controls"
          }
        },
        "61754457c8864775818816121c0e2202": {
          "model_module": "@jupyter-widgets/base",
          "model_name": "LayoutModel",
          "state": {
            "_view_name": "LayoutView",
            "grid_template_rows": null,
            "right": null,
            "justify_content": null,
            "_view_module": "@jupyter-widgets/base",
            "overflow": null,
            "_model_module_version": "1.2.0",
            "_view_count": null,
            "flex_flow": null,
            "width": null,
            "min_width": null,
            "border": null,
            "align_items": null,
            "bottom": null,
            "_model_module": "@jupyter-widgets/base",
            "top": null,
            "grid_column": null,
            "overflow_y": null,
            "overflow_x": null,
            "grid_auto_flow": null,
            "grid_area": null,
            "grid_template_columns": null,
            "flex": null,
            "_model_name": "LayoutModel",
            "justify_items": null,
            "grid_row": null,
            "max_height": null,
            "align_content": null,
            "visibility": null,
            "align_self": null,
            "height": null,
            "min_height": null,
            "padding": null,
            "grid_auto_rows": null,
            "grid_gap": null,
            "max_width": null,
            "order": null,
            "_view_module_version": "1.2.0",
            "grid_template_areas": null,
            "object_position": null,
            "object_fit": null,
            "grid_auto_columns": null,
            "margin": null,
            "display": null,
            "left": null
          }
        },
        "c06b6bf821ff4329ae9622c819eebe7f": {
          "model_module": "@jupyter-widgets/controls",
          "model_name": "HBoxModel",
          "state": {
            "_view_name": "HBoxView",
            "_dom_classes": [],
            "_model_name": "HBoxModel",
            "_view_module": "@jupyter-widgets/controls",
            "_model_module_version": "1.5.0",
            "_view_count": null,
            "_view_module_version": "1.5.0",
            "box_style": "",
            "layout": "IPY_MODEL_7519928a47cb43debca370754efd0bad",
            "_model_module": "@jupyter-widgets/controls",
            "children": [
              "IPY_MODEL_69e18ed9ee104fb2b7d70d42e908da46",
              "IPY_MODEL_55392583758a45799e05a0e2fb6ebf95"
            ]
          }
        },
        "7519928a47cb43debca370754efd0bad": {
          "model_module": "@jupyter-widgets/base",
          "model_name": "LayoutModel",
          "state": {
            "_view_name": "LayoutView",
            "grid_template_rows": null,
            "right": null,
            "justify_content": null,
            "_view_module": "@jupyter-widgets/base",
            "overflow": null,
            "_model_module_version": "1.2.0",
            "_view_count": null,
            "flex_flow": null,
            "width": null,
            "min_width": null,
            "border": null,
            "align_items": null,
            "bottom": null,
            "_model_module": "@jupyter-widgets/base",
            "top": null,
            "grid_column": null,
            "overflow_y": null,
            "overflow_x": null,
            "grid_auto_flow": null,
            "grid_area": null,
            "grid_template_columns": null,
            "flex": null,
            "_model_name": "LayoutModel",
            "justify_items": null,
            "grid_row": null,
            "max_height": null,
            "align_content": null,
            "visibility": null,
            "align_self": null,
            "height": null,
            "min_height": null,
            "padding": null,
            "grid_auto_rows": null,
            "grid_gap": null,
            "max_width": null,
            "order": null,
            "_view_module_version": "1.2.0",
            "grid_template_areas": null,
            "object_position": null,
            "object_fit": null,
            "grid_auto_columns": null,
            "margin": null,
            "display": null,
            "left": null
          }
        },
        "69e18ed9ee104fb2b7d70d42e908da46": {
          "model_module": "@jupyter-widgets/controls",
          "model_name": "FloatProgressModel",
          "state": {
            "_view_name": "ProgressView",
            "style": "IPY_MODEL_15bfaa05e216441783f03633bdc3ab18",
            "_dom_classes": [],
            "description": "Classifying examples (process 1): 100%",
            "_model_name": "FloatProgressModel",
            "bar_style": "success",
            "max": 14000,
            "_view_module": "@jupyter-widgets/controls",
            "_model_module_version": "1.5.0",
            "value": 14000,
            "_view_count": null,
            "_view_module_version": "1.5.0",
            "orientation": "horizontal",
            "min": 0,
            "description_tooltip": null,
            "_model_module": "@jupyter-widgets/controls",
            "layout": "IPY_MODEL_ecc6f065d94c49e0b8a437fa83f3e2f7"
          }
        },
        "55392583758a45799e05a0e2fb6ebf95": {
          "model_module": "@jupyter-widgets/controls",
          "model_name": "HTMLModel",
          "state": {
            "_view_name": "HTMLView",
            "style": "IPY_MODEL_456471b335d245788cf31df32ae3dd54",
            "_dom_classes": [],
            "description": "",
            "_model_name": "HTMLModel",
            "placeholder": "​",
            "_view_module": "@jupyter-widgets/controls",
            "_model_module_version": "1.5.0",
            "value": " 14000/14000 [45:09&lt;00:00,  5.17it/s]",
            "_view_count": null,
            "_view_module_version": "1.5.0",
            "description_tooltip": null,
            "_model_module": "@jupyter-widgets/controls",
            "layout": "IPY_MODEL_e0081b2c80e24171823e114d0ac01052"
          }
        },
        "15bfaa05e216441783f03633bdc3ab18": {
          "model_module": "@jupyter-widgets/controls",
          "model_name": "ProgressStyleModel",
          "state": {
            "_view_name": "StyleView",
            "_model_name": "ProgressStyleModel",
            "description_width": "initial",
            "_view_module": "@jupyter-widgets/base",
            "_model_module_version": "1.5.0",
            "_view_count": null,
            "_view_module_version": "1.2.0",
            "bar_color": null,
            "_model_module": "@jupyter-widgets/controls"
          }
        },
        "ecc6f065d94c49e0b8a437fa83f3e2f7": {
          "model_module": "@jupyter-widgets/base",
          "model_name": "LayoutModel",
          "state": {
            "_view_name": "LayoutView",
            "grid_template_rows": null,
            "right": null,
            "justify_content": null,
            "_view_module": "@jupyter-widgets/base",
            "overflow": null,
            "_model_module_version": "1.2.0",
            "_view_count": null,
            "flex_flow": null,
            "width": null,
            "min_width": null,
            "border": null,
            "align_items": null,
            "bottom": null,
            "_model_module": "@jupyter-widgets/base",
            "top": null,
            "grid_column": null,
            "overflow_y": null,
            "overflow_x": null,
            "grid_auto_flow": null,
            "grid_area": null,
            "grid_template_columns": null,
            "flex": null,
            "_model_name": "LayoutModel",
            "justify_items": null,
            "grid_row": null,
            "max_height": null,
            "align_content": null,
            "visibility": null,
            "align_self": null,
            "height": null,
            "min_height": null,
            "padding": null,
            "grid_auto_rows": null,
            "grid_gap": null,
            "max_width": null,
            "order": null,
            "_view_module_version": "1.2.0",
            "grid_template_areas": null,
            "object_position": null,
            "object_fit": null,
            "grid_auto_columns": null,
            "margin": null,
            "display": null,
            "left": null
          }
        },
        "456471b335d245788cf31df32ae3dd54": {
          "model_module": "@jupyter-widgets/controls",
          "model_name": "DescriptionStyleModel",
          "state": {
            "_view_name": "StyleView",
            "_model_name": "DescriptionStyleModel",
            "description_width": "",
            "_view_module": "@jupyter-widgets/base",
            "_model_module_version": "1.5.0",
            "_view_count": null,
            "_view_module_version": "1.2.0",
            "_model_module": "@jupyter-widgets/controls"
          }
        },
        "e0081b2c80e24171823e114d0ac01052": {
          "model_module": "@jupyter-widgets/base",
          "model_name": "LayoutModel",
          "state": {
            "_view_name": "LayoutView",
            "grid_template_rows": null,
            "right": null,
            "justify_content": null,
            "_view_module": "@jupyter-widgets/base",
            "overflow": null,
            "_model_module_version": "1.2.0",
            "_view_count": null,
            "flex_flow": null,
            "width": null,
            "min_width": null,
            "border": null,
            "align_items": null,
            "bottom": null,
            "_model_module": "@jupyter-widgets/base",
            "top": null,
            "grid_column": null,
            "overflow_y": null,
            "overflow_x": null,
            "grid_auto_flow": null,
            "grid_area": null,
            "grid_template_columns": null,
            "flex": null,
            "_model_name": "LayoutModel",
            "justify_items": null,
            "grid_row": null,
            "max_height": null,
            "align_content": null,
            "visibility": null,
            "align_self": null,
            "height": null,
            "min_height": null,
            "padding": null,
            "grid_auto_rows": null,
            "grid_gap": null,
            "max_width": null,
            "order": null,
            "_view_module_version": "1.2.0",
            "grid_template_areas": null,
            "object_position": null,
            "object_fit": null,
            "grid_auto_columns": null,
            "margin": null,
            "display": null,
            "left": null
          }
        },
        "778274dc3fd14dd29943eb055691fc9a": {
          "model_module": "@jupyter-widgets/controls",
          "model_name": "HBoxModel",
          "state": {
            "_view_name": "HBoxView",
            "_dom_classes": [],
            "_model_name": "HBoxModel",
            "_view_module": "@jupyter-widgets/controls",
            "_model_module_version": "1.5.0",
            "_view_count": null,
            "_view_module_version": "1.5.0",
            "box_style": "",
            "layout": "IPY_MODEL_1547207d82f347ecb50880adcba56583",
            "_model_module": "@jupyter-widgets/controls",
            "children": [
              "IPY_MODEL_8a580d54d2b648069b22789e52cbf098",
              "IPY_MODEL_8eb9dd2203a8468ea54aeea024be4064"
            ]
          }
        },
        "1547207d82f347ecb50880adcba56583": {
          "model_module": "@jupyter-widgets/base",
          "model_name": "LayoutModel",
          "state": {
            "_view_name": "LayoutView",
            "grid_template_rows": null,
            "right": null,
            "justify_content": null,
            "_view_module": "@jupyter-widgets/base",
            "overflow": null,
            "_model_module_version": "1.2.0",
            "_view_count": null,
            "flex_flow": null,
            "width": null,
            "min_width": null,
            "border": null,
            "align_items": null,
            "bottom": null,
            "_model_module": "@jupyter-widgets/base",
            "top": null,
            "grid_column": null,
            "overflow_y": null,
            "overflow_x": null,
            "grid_auto_flow": null,
            "grid_area": null,
            "grid_template_columns": null,
            "flex": null,
            "_model_name": "LayoutModel",
            "justify_items": null,
            "grid_row": null,
            "max_height": null,
            "align_content": null,
            "visibility": null,
            "align_self": null,
            "height": null,
            "min_height": null,
            "padding": null,
            "grid_auto_rows": null,
            "grid_gap": null,
            "max_width": null,
            "order": null,
            "_view_module_version": "1.2.0",
            "grid_template_areas": null,
            "object_position": null,
            "object_fit": null,
            "grid_auto_columns": null,
            "margin": null,
            "display": null,
            "left": null
          }
        },
        "8a580d54d2b648069b22789e52cbf098": {
          "model_module": "@jupyter-widgets/controls",
          "model_name": "FloatProgressModel",
          "state": {
            "_view_name": "ProgressView",
            "style": "IPY_MODEL_a5d12fa3b32b44c6840806e436f701fd",
            "_dom_classes": [],
            "description": "Training HMMs: 100%",
            "_model_name": "FloatProgressModel",
            "bar_style": "success",
            "max": 10,
            "_view_module": "@jupyter-widgets/controls",
            "_model_module_version": "1.5.0",
            "value": 10,
            "_view_count": null,
            "_view_module_version": "1.5.0",
            "orientation": "horizontal",
            "min": 0,
            "description_tooltip": null,
            "_model_module": "@jupyter-widgets/controls",
            "layout": "IPY_MODEL_8b2b2d81c6d34a2f8659c77045096e64"
          }
        },
        "8eb9dd2203a8468ea54aeea024be4064": {
          "model_module": "@jupyter-widgets/controls",
          "model_name": "HTMLModel",
          "state": {
            "_view_name": "HTMLView",
            "style": "IPY_MODEL_51828bff3e7947e584b46760f25ba62e",
            "_dom_classes": [],
            "description": "",
            "_model_name": "HTMLModel",
            "placeholder": "​",
            "_view_module": "@jupyter-widgets/controls",
            "_model_module_version": "1.5.0",
            "value": " 10/10 [21:58&lt;00:00, 131.84s/it]",
            "_view_count": null,
            "_view_module_version": "1.5.0",
            "description_tooltip": null,
            "_model_module": "@jupyter-widgets/controls",
            "layout": "IPY_MODEL_bb56b27e5f00455e8055464cf1b07fa3"
          }
        },
        "a5d12fa3b32b44c6840806e436f701fd": {
          "model_module": "@jupyter-widgets/controls",
          "model_name": "ProgressStyleModel",
          "state": {
            "_view_name": "StyleView",
            "_model_name": "ProgressStyleModel",
            "description_width": "initial",
            "_view_module": "@jupyter-widgets/base",
            "_model_module_version": "1.5.0",
            "_view_count": null,
            "_view_module_version": "1.2.0",
            "bar_color": null,
            "_model_module": "@jupyter-widgets/controls"
          }
        },
        "8b2b2d81c6d34a2f8659c77045096e64": {
          "model_module": "@jupyter-widgets/base",
          "model_name": "LayoutModel",
          "state": {
            "_view_name": "LayoutView",
            "grid_template_rows": null,
            "right": null,
            "justify_content": null,
            "_view_module": "@jupyter-widgets/base",
            "overflow": null,
            "_model_module_version": "1.2.0",
            "_view_count": null,
            "flex_flow": null,
            "width": null,
            "min_width": null,
            "border": null,
            "align_items": null,
            "bottom": null,
            "_model_module": "@jupyter-widgets/base",
            "top": null,
            "grid_column": null,
            "overflow_y": null,
            "overflow_x": null,
            "grid_auto_flow": null,
            "grid_area": null,
            "grid_template_columns": null,
            "flex": null,
            "_model_name": "LayoutModel",
            "justify_items": null,
            "grid_row": null,
            "max_height": null,
            "align_content": null,
            "visibility": null,
            "align_self": null,
            "height": null,
            "min_height": null,
            "padding": null,
            "grid_auto_rows": null,
            "grid_gap": null,
            "max_width": null,
            "order": null,
            "_view_module_version": "1.2.0",
            "grid_template_areas": null,
            "object_position": null,
            "object_fit": null,
            "grid_auto_columns": null,
            "margin": null,
            "display": null,
            "left": null
          }
        },
        "51828bff3e7947e584b46760f25ba62e": {
          "model_module": "@jupyter-widgets/controls",
          "model_name": "DescriptionStyleModel",
          "state": {
            "_view_name": "StyleView",
            "_model_name": "DescriptionStyleModel",
            "description_width": "",
            "_view_module": "@jupyter-widgets/base",
            "_model_module_version": "1.5.0",
            "_view_count": null,
            "_view_module_version": "1.2.0",
            "_model_module": "@jupyter-widgets/controls"
          }
        },
        "bb56b27e5f00455e8055464cf1b07fa3": {
          "model_module": "@jupyter-widgets/base",
          "model_name": "LayoutModel",
          "state": {
            "_view_name": "LayoutView",
            "grid_template_rows": null,
            "right": null,
            "justify_content": null,
            "_view_module": "@jupyter-widgets/base",
            "overflow": null,
            "_model_module_version": "1.2.0",
            "_view_count": null,
            "flex_flow": null,
            "width": null,
            "min_width": null,
            "border": null,
            "align_items": null,
            "bottom": null,
            "_model_module": "@jupyter-widgets/base",
            "top": null,
            "grid_column": null,
            "overflow_y": null,
            "overflow_x": null,
            "grid_auto_flow": null,
            "grid_area": null,
            "grid_template_columns": null,
            "flex": null,
            "_model_name": "LayoutModel",
            "justify_items": null,
            "grid_row": null,
            "max_height": null,
            "align_content": null,
            "visibility": null,
            "align_self": null,
            "height": null,
            "min_height": null,
            "padding": null,
            "grid_auto_rows": null,
            "grid_gap": null,
            "max_width": null,
            "order": null,
            "_view_module_version": "1.2.0",
            "grid_template_areas": null,
            "object_position": null,
            "object_fit": null,
            "grid_auto_columns": null,
            "margin": null,
            "display": null,
            "left": null
          }
        },
        "1b78135373544009b22e58f3f7cfcb85": {
          "model_module": "@jupyter-widgets/controls",
          "model_name": "HBoxModel",
          "state": {
            "_view_name": "HBoxView",
            "_dom_classes": [],
            "_model_name": "HBoxModel",
            "_view_module": "@jupyter-widgets/controls",
            "_model_module_version": "1.5.0",
            "_view_count": null,
            "_view_module_version": "1.5.0",
            "box_style": "",
            "layout": "IPY_MODEL_f067303639194ca384ab94f3cf128168",
            "_model_module": "@jupyter-widgets/controls",
            "children": [
              "IPY_MODEL_14e43d1da5af4175a3ebf7aad1abd9c2",
              "IPY_MODEL_55ba7478717b4cdc858968adcd4c7eb9"
            ]
          }
        },
        "f067303639194ca384ab94f3cf128168": {
          "model_module": "@jupyter-widgets/base",
          "model_name": "LayoutModel",
          "state": {
            "_view_name": "LayoutView",
            "grid_template_rows": null,
            "right": null,
            "justify_content": null,
            "_view_module": "@jupyter-widgets/base",
            "overflow": null,
            "_model_module_version": "1.2.0",
            "_view_count": null,
            "flex_flow": null,
            "width": null,
            "min_width": null,
            "border": null,
            "align_items": null,
            "bottom": null,
            "_model_module": "@jupyter-widgets/base",
            "top": null,
            "grid_column": null,
            "overflow_y": null,
            "overflow_x": null,
            "grid_auto_flow": null,
            "grid_area": null,
            "grid_template_columns": null,
            "flex": null,
            "_model_name": "LayoutModel",
            "justify_items": null,
            "grid_row": null,
            "max_height": null,
            "align_content": null,
            "visibility": null,
            "align_self": null,
            "height": null,
            "min_height": null,
            "padding": null,
            "grid_auto_rows": null,
            "grid_gap": null,
            "max_width": null,
            "order": null,
            "_view_module_version": "1.2.0",
            "grid_template_areas": null,
            "object_position": null,
            "object_fit": null,
            "grid_auto_columns": null,
            "margin": null,
            "display": null,
            "left": null
          }
        },
        "14e43d1da5af4175a3ebf7aad1abd9c2": {
          "model_module": "@jupyter-widgets/controls",
          "model_name": "FloatProgressModel",
          "state": {
            "_view_name": "ProgressView",
            "style": "IPY_MODEL_919bb39a500441e897e121021377d333",
            "_dom_classes": [],
            "description": "Classifying examples (process 1): 100%",
            "_model_name": "FloatProgressModel",
            "bar_style": "success",
            "max": 14000,
            "_view_module": "@jupyter-widgets/controls",
            "_model_module_version": "1.5.0",
            "value": 14000,
            "_view_count": null,
            "_view_module_version": "1.5.0",
            "orientation": "horizontal",
            "min": 0,
            "description_tooltip": null,
            "_model_module": "@jupyter-widgets/controls",
            "layout": "IPY_MODEL_0acc9ef7402043a1873b2c541b9479b9"
          }
        },
        "55ba7478717b4cdc858968adcd4c7eb9": {
          "model_module": "@jupyter-widgets/controls",
          "model_name": "HTMLModel",
          "state": {
            "_view_name": "HTMLView",
            "style": "IPY_MODEL_dee49cb960b44c0687a28649f4224cff",
            "_dom_classes": [],
            "description": "",
            "_model_name": "HTMLModel",
            "placeholder": "​",
            "_view_module": "@jupyter-widgets/controls",
            "_model_module_version": "1.5.0",
            "value": " 14000/14000 [2:11:58&lt;00:00,  1.77it/s]",
            "_view_count": null,
            "_view_module_version": "1.5.0",
            "description_tooltip": null,
            "_model_module": "@jupyter-widgets/controls",
            "layout": "IPY_MODEL_c176de3df544416abed4d67d68a6d4d9"
          }
        },
        "919bb39a500441e897e121021377d333": {
          "model_module": "@jupyter-widgets/controls",
          "model_name": "ProgressStyleModel",
          "state": {
            "_view_name": "StyleView",
            "_model_name": "ProgressStyleModel",
            "description_width": "initial",
            "_view_module": "@jupyter-widgets/base",
            "_model_module_version": "1.5.0",
            "_view_count": null,
            "_view_module_version": "1.2.0",
            "bar_color": null,
            "_model_module": "@jupyter-widgets/controls"
          }
        },
        "0acc9ef7402043a1873b2c541b9479b9": {
          "model_module": "@jupyter-widgets/base",
          "model_name": "LayoutModel",
          "state": {
            "_view_name": "LayoutView",
            "grid_template_rows": null,
            "right": null,
            "justify_content": null,
            "_view_module": "@jupyter-widgets/base",
            "overflow": null,
            "_model_module_version": "1.2.0",
            "_view_count": null,
            "flex_flow": null,
            "width": null,
            "min_width": null,
            "border": null,
            "align_items": null,
            "bottom": null,
            "_model_module": "@jupyter-widgets/base",
            "top": null,
            "grid_column": null,
            "overflow_y": null,
            "overflow_x": null,
            "grid_auto_flow": null,
            "grid_area": null,
            "grid_template_columns": null,
            "flex": null,
            "_model_name": "LayoutModel",
            "justify_items": null,
            "grid_row": null,
            "max_height": null,
            "align_content": null,
            "visibility": null,
            "align_self": null,
            "height": null,
            "min_height": null,
            "padding": null,
            "grid_auto_rows": null,
            "grid_gap": null,
            "max_width": null,
            "order": null,
            "_view_module_version": "1.2.0",
            "grid_template_areas": null,
            "object_position": null,
            "object_fit": null,
            "grid_auto_columns": null,
            "margin": null,
            "display": null,
            "left": null
          }
        },
        "dee49cb960b44c0687a28649f4224cff": {
          "model_module": "@jupyter-widgets/controls",
          "model_name": "DescriptionStyleModel",
          "state": {
            "_view_name": "StyleView",
            "_model_name": "DescriptionStyleModel",
            "description_width": "",
            "_view_module": "@jupyter-widgets/base",
            "_model_module_version": "1.5.0",
            "_view_count": null,
            "_view_module_version": "1.2.0",
            "_model_module": "@jupyter-widgets/controls"
          }
        },
        "c176de3df544416abed4d67d68a6d4d9": {
          "model_module": "@jupyter-widgets/base",
          "model_name": "LayoutModel",
          "state": {
            "_view_name": "LayoutView",
            "grid_template_rows": null,
            "right": null,
            "justify_content": null,
            "_view_module": "@jupyter-widgets/base",
            "overflow": null,
            "_model_module_version": "1.2.0",
            "_view_count": null,
            "flex_flow": null,
            "width": null,
            "min_width": null,
            "border": null,
            "align_items": null,
            "bottom": null,
            "_model_module": "@jupyter-widgets/base",
            "top": null,
            "grid_column": null,
            "overflow_y": null,
            "overflow_x": null,
            "grid_auto_flow": null,
            "grid_area": null,
            "grid_template_columns": null,
            "flex": null,
            "_model_name": "LayoutModel",
            "justify_items": null,
            "grid_row": null,
            "max_height": null,
            "align_content": null,
            "visibility": null,
            "align_self": null,
            "height": null,
            "min_height": null,
            "padding": null,
            "grid_auto_rows": null,
            "grid_gap": null,
            "max_width": null,
            "order": null,
            "_view_module_version": "1.2.0",
            "grid_template_areas": null,
            "object_position": null,
            "object_fit": null,
            "grid_auto_columns": null,
            "margin": null,
            "display": null,
            "left": null
          }
        },
        "8f05ed2eb59a4545b9b0ff8077444ef8": {
          "model_module": "@jupyter-widgets/controls",
          "model_name": "HBoxModel",
          "state": {
            "_view_name": "HBoxView",
            "_dom_classes": [],
            "_model_name": "HBoxModel",
            "_view_module": "@jupyter-widgets/controls",
            "_model_module_version": "1.5.0",
            "_view_count": null,
            "_view_module_version": "1.5.0",
            "box_style": "",
            "layout": "IPY_MODEL_e3c5415c39c249d5877660f288c7ecdc",
            "_model_module": "@jupyter-widgets/controls",
            "children": [
              "IPY_MODEL_23f2edc2807047f6a63f95592481f241",
              "IPY_MODEL_224f0ee4a70f48fca5a046d1e819fd89"
            ]
          }
        },
        "e3c5415c39c249d5877660f288c7ecdc": {
          "model_module": "@jupyter-widgets/base",
          "model_name": "LayoutModel",
          "state": {
            "_view_name": "LayoutView",
            "grid_template_rows": null,
            "right": null,
            "justify_content": null,
            "_view_module": "@jupyter-widgets/base",
            "overflow": null,
            "_model_module_version": "1.2.0",
            "_view_count": null,
            "flex_flow": null,
            "width": null,
            "min_width": null,
            "border": null,
            "align_items": null,
            "bottom": null,
            "_model_module": "@jupyter-widgets/base",
            "top": null,
            "grid_column": null,
            "overflow_y": null,
            "overflow_x": null,
            "grid_auto_flow": null,
            "grid_area": null,
            "grid_template_columns": null,
            "flex": null,
            "_model_name": "LayoutModel",
            "justify_items": null,
            "grid_row": null,
            "max_height": null,
            "align_content": null,
            "visibility": null,
            "align_self": null,
            "height": null,
            "min_height": null,
            "padding": null,
            "grid_auto_rows": null,
            "grid_gap": null,
            "max_width": null,
            "order": null,
            "_view_module_version": "1.2.0",
            "grid_template_areas": null,
            "object_position": null,
            "object_fit": null,
            "grid_auto_columns": null,
            "margin": null,
            "display": null,
            "left": null
          }
        },
        "23f2edc2807047f6a63f95592481f241": {
          "model_module": "@jupyter-widgets/controls",
          "model_name": "FloatProgressModel",
          "state": {
            "_view_name": "ProgressView",
            "style": "IPY_MODEL_bd551613a62640e598a6907ca3dfb199",
            "_dom_classes": [],
            "description": "Training HMMs: 100%",
            "_model_name": "FloatProgressModel",
            "bar_style": "success",
            "max": 10,
            "_view_module": "@jupyter-widgets/controls",
            "_model_module_version": "1.5.0",
            "value": 10,
            "_view_count": null,
            "_view_module_version": "1.5.0",
            "orientation": "horizontal",
            "min": 0,
            "description_tooltip": null,
            "_model_module": "@jupyter-widgets/controls",
            "layout": "IPY_MODEL_1cab3131b1ce4046b9cf84028cd0f543"
          }
        },
        "224f0ee4a70f48fca5a046d1e819fd89": {
          "model_module": "@jupyter-widgets/controls",
          "model_name": "HTMLModel",
          "state": {
            "_view_name": "HTMLView",
            "style": "IPY_MODEL_0a79210da35345da81fa4529af1185c4",
            "_dom_classes": [],
            "description": "",
            "_model_name": "HTMLModel",
            "placeholder": "​",
            "_view_module": "@jupyter-widgets/controls",
            "_model_module_version": "1.5.0",
            "value": " 10/10 [54:46&lt;00:00, 328.63s/it]",
            "_view_count": null,
            "_view_module_version": "1.5.0",
            "description_tooltip": null,
            "_model_module": "@jupyter-widgets/controls",
            "layout": "IPY_MODEL_0df43f274aa54783b73a69274e4db181"
          }
        },
        "bd551613a62640e598a6907ca3dfb199": {
          "model_module": "@jupyter-widgets/controls",
          "model_name": "ProgressStyleModel",
          "state": {
            "_view_name": "StyleView",
            "_model_name": "ProgressStyleModel",
            "description_width": "initial",
            "_view_module": "@jupyter-widgets/base",
            "_model_module_version": "1.5.0",
            "_view_count": null,
            "_view_module_version": "1.2.0",
            "bar_color": null,
            "_model_module": "@jupyter-widgets/controls"
          }
        },
        "1cab3131b1ce4046b9cf84028cd0f543": {
          "model_module": "@jupyter-widgets/base",
          "model_name": "LayoutModel",
          "state": {
            "_view_name": "LayoutView",
            "grid_template_rows": null,
            "right": null,
            "justify_content": null,
            "_view_module": "@jupyter-widgets/base",
            "overflow": null,
            "_model_module_version": "1.2.0",
            "_view_count": null,
            "flex_flow": null,
            "width": null,
            "min_width": null,
            "border": null,
            "align_items": null,
            "bottom": null,
            "_model_module": "@jupyter-widgets/base",
            "top": null,
            "grid_column": null,
            "overflow_y": null,
            "overflow_x": null,
            "grid_auto_flow": null,
            "grid_area": null,
            "grid_template_columns": null,
            "flex": null,
            "_model_name": "LayoutModel",
            "justify_items": null,
            "grid_row": null,
            "max_height": null,
            "align_content": null,
            "visibility": null,
            "align_self": null,
            "height": null,
            "min_height": null,
            "padding": null,
            "grid_auto_rows": null,
            "grid_gap": null,
            "max_width": null,
            "order": null,
            "_view_module_version": "1.2.0",
            "grid_template_areas": null,
            "object_position": null,
            "object_fit": null,
            "grid_auto_columns": null,
            "margin": null,
            "display": null,
            "left": null
          }
        },
        "0a79210da35345da81fa4529af1185c4": {
          "model_module": "@jupyter-widgets/controls",
          "model_name": "DescriptionStyleModel",
          "state": {
            "_view_name": "StyleView",
            "_model_name": "DescriptionStyleModel",
            "description_width": "",
            "_view_module": "@jupyter-widgets/base",
            "_model_module_version": "1.5.0",
            "_view_count": null,
            "_view_module_version": "1.2.0",
            "_model_module": "@jupyter-widgets/controls"
          }
        },
        "0df43f274aa54783b73a69274e4db181": {
          "model_module": "@jupyter-widgets/base",
          "model_name": "LayoutModel",
          "state": {
            "_view_name": "LayoutView",
            "grid_template_rows": null,
            "right": null,
            "justify_content": null,
            "_view_module": "@jupyter-widgets/base",
            "overflow": null,
            "_model_module_version": "1.2.0",
            "_view_count": null,
            "flex_flow": null,
            "width": null,
            "min_width": null,
            "border": null,
            "align_items": null,
            "bottom": null,
            "_model_module": "@jupyter-widgets/base",
            "top": null,
            "grid_column": null,
            "overflow_y": null,
            "overflow_x": null,
            "grid_auto_flow": null,
            "grid_area": null,
            "grid_template_columns": null,
            "flex": null,
            "_model_name": "LayoutModel",
            "justify_items": null,
            "grid_row": null,
            "max_height": null,
            "align_content": null,
            "visibility": null,
            "align_self": null,
            "height": null,
            "min_height": null,
            "padding": null,
            "grid_auto_rows": null,
            "grid_gap": null,
            "max_width": null,
            "order": null,
            "_view_module_version": "1.2.0",
            "grid_template_areas": null,
            "object_position": null,
            "object_fit": null,
            "grid_auto_columns": null,
            "margin": null,
            "display": null,
            "left": null
          }
        },
        "775dc57981014a75b23797d4281b5d2f": {
          "model_module": "@jupyter-widgets/controls",
          "model_name": "HBoxModel",
          "state": {
            "_view_name": "HBoxView",
            "_dom_classes": [],
            "_model_name": "HBoxModel",
            "_view_module": "@jupyter-widgets/controls",
            "_model_module_version": "1.5.0",
            "_view_count": null,
            "_view_module_version": "1.5.0",
            "box_style": "",
            "layout": "IPY_MODEL_cbffd1c882304403a0af3c685f5a8781",
            "_model_module": "@jupyter-widgets/controls",
            "children": [
              "IPY_MODEL_e1c4ba992dd443559264494b8103c8ba",
              "IPY_MODEL_ff17f3bf234349cc9f744c6553c65bcf"
            ]
          }
        },
        "cbffd1c882304403a0af3c685f5a8781": {
          "model_module": "@jupyter-widgets/base",
          "model_name": "LayoutModel",
          "state": {
            "_view_name": "LayoutView",
            "grid_template_rows": null,
            "right": null,
            "justify_content": null,
            "_view_module": "@jupyter-widgets/base",
            "overflow": null,
            "_model_module_version": "1.2.0",
            "_view_count": null,
            "flex_flow": null,
            "width": null,
            "min_width": null,
            "border": null,
            "align_items": null,
            "bottom": null,
            "_model_module": "@jupyter-widgets/base",
            "top": null,
            "grid_column": null,
            "overflow_y": null,
            "overflow_x": null,
            "grid_auto_flow": null,
            "grid_area": null,
            "grid_template_columns": null,
            "flex": null,
            "_model_name": "LayoutModel",
            "justify_items": null,
            "grid_row": null,
            "max_height": null,
            "align_content": null,
            "visibility": null,
            "align_self": null,
            "height": null,
            "min_height": null,
            "padding": null,
            "grid_auto_rows": null,
            "grid_gap": null,
            "max_width": null,
            "order": null,
            "_view_module_version": "1.2.0",
            "grid_template_areas": null,
            "object_position": null,
            "object_fit": null,
            "grid_auto_columns": null,
            "margin": null,
            "display": null,
            "left": null
          }
        },
        "e1c4ba992dd443559264494b8103c8ba": {
          "model_module": "@jupyter-widgets/controls",
          "model_name": "FloatProgressModel",
          "state": {
            "_view_name": "ProgressView",
            "style": "IPY_MODEL_3f0cd6dfb97e4dc7841b88ed1fe05ae3",
            "_dom_classes": [],
            "description": "Classifying examples (process 1): 100%",
            "_model_name": "FloatProgressModel",
            "bar_style": "success",
            "max": 14000,
            "_view_module": "@jupyter-widgets/controls",
            "_model_module_version": "1.5.0",
            "value": 14000,
            "_view_count": null,
            "_view_module_version": "1.5.0",
            "orientation": "horizontal",
            "min": 0,
            "description_tooltip": null,
            "_model_module": "@jupyter-widgets/controls",
            "layout": "IPY_MODEL_a395a0cab4f24ba0ae3f8b909a5398b4"
          }
        },
        "ff17f3bf234349cc9f744c6553c65bcf": {
          "model_module": "@jupyter-widgets/controls",
          "model_name": "HTMLModel",
          "state": {
            "_view_name": "HTMLView",
            "style": "IPY_MODEL_91c5b7ca656d4b8296163ff4da8987f8",
            "_dom_classes": [],
            "description": "",
            "_model_name": "HTMLModel",
            "placeholder": "​",
            "_view_module": "@jupyter-widgets/controls",
            "_model_module_version": "1.5.0",
            "value": " 14000/14000 [34:36&lt;00:00,  6.74it/s]",
            "_view_count": null,
            "_view_module_version": "1.5.0",
            "description_tooltip": null,
            "_model_module": "@jupyter-widgets/controls",
            "layout": "IPY_MODEL_1f26187f756b4066a094b6352750f7cf"
          }
        },
        "3f0cd6dfb97e4dc7841b88ed1fe05ae3": {
          "model_module": "@jupyter-widgets/controls",
          "model_name": "ProgressStyleModel",
          "state": {
            "_view_name": "StyleView",
            "_model_name": "ProgressStyleModel",
            "description_width": "initial",
            "_view_module": "@jupyter-widgets/base",
            "_model_module_version": "1.5.0",
            "_view_count": null,
            "_view_module_version": "1.2.0",
            "bar_color": null,
            "_model_module": "@jupyter-widgets/controls"
          }
        },
        "a395a0cab4f24ba0ae3f8b909a5398b4": {
          "model_module": "@jupyter-widgets/base",
          "model_name": "LayoutModel",
          "state": {
            "_view_name": "LayoutView",
            "grid_template_rows": null,
            "right": null,
            "justify_content": null,
            "_view_module": "@jupyter-widgets/base",
            "overflow": null,
            "_model_module_version": "1.2.0",
            "_view_count": null,
            "flex_flow": null,
            "width": null,
            "min_width": null,
            "border": null,
            "align_items": null,
            "bottom": null,
            "_model_module": "@jupyter-widgets/base",
            "top": null,
            "grid_column": null,
            "overflow_y": null,
            "overflow_x": null,
            "grid_auto_flow": null,
            "grid_area": null,
            "grid_template_columns": null,
            "flex": null,
            "_model_name": "LayoutModel",
            "justify_items": null,
            "grid_row": null,
            "max_height": null,
            "align_content": null,
            "visibility": null,
            "align_self": null,
            "height": null,
            "min_height": null,
            "padding": null,
            "grid_auto_rows": null,
            "grid_gap": null,
            "max_width": null,
            "order": null,
            "_view_module_version": "1.2.0",
            "grid_template_areas": null,
            "object_position": null,
            "object_fit": null,
            "grid_auto_columns": null,
            "margin": null,
            "display": null,
            "left": null
          }
        },
        "91c5b7ca656d4b8296163ff4da8987f8": {
          "model_module": "@jupyter-widgets/controls",
          "model_name": "DescriptionStyleModel",
          "state": {
            "_view_name": "StyleView",
            "_model_name": "DescriptionStyleModel",
            "description_width": "",
            "_view_module": "@jupyter-widgets/base",
            "_model_module_version": "1.5.0",
            "_view_count": null,
            "_view_module_version": "1.2.0",
            "_model_module": "@jupyter-widgets/controls"
          }
        },
        "1f26187f756b4066a094b6352750f7cf": {
          "model_module": "@jupyter-widgets/base",
          "model_name": "LayoutModel",
          "state": {
            "_view_name": "LayoutView",
            "grid_template_rows": null,
            "right": null,
            "justify_content": null,
            "_view_module": "@jupyter-widgets/base",
            "overflow": null,
            "_model_module_version": "1.2.0",
            "_view_count": null,
            "flex_flow": null,
            "width": null,
            "min_width": null,
            "border": null,
            "align_items": null,
            "bottom": null,
            "_model_module": "@jupyter-widgets/base",
            "top": null,
            "grid_column": null,
            "overflow_y": null,
            "overflow_x": null,
            "grid_auto_flow": null,
            "grid_area": null,
            "grid_template_columns": null,
            "flex": null,
            "_model_name": "LayoutModel",
            "justify_items": null,
            "grid_row": null,
            "max_height": null,
            "align_content": null,
            "visibility": null,
            "align_self": null,
            "height": null,
            "min_height": null,
            "padding": null,
            "grid_auto_rows": null,
            "grid_gap": null,
            "max_width": null,
            "order": null,
            "_view_module_version": "1.2.0",
            "grid_template_areas": null,
            "object_position": null,
            "object_fit": null,
            "grid_auto_columns": null,
            "margin": null,
            "display": null,
            "left": null
          }
        },
        "f01f4a0bd2df4aafb2cacaced6485c22": {
          "model_module": "@jupyter-widgets/controls",
          "model_name": "HBoxModel",
          "state": {
            "_view_name": "HBoxView",
            "_dom_classes": [],
            "_model_name": "HBoxModel",
            "_view_module": "@jupyter-widgets/controls",
            "_model_module_version": "1.5.0",
            "_view_count": null,
            "_view_module_version": "1.5.0",
            "box_style": "",
            "layout": "IPY_MODEL_a52becf4eb1b4336b2ca46151a76a668",
            "_model_module": "@jupyter-widgets/controls",
            "children": [
              "IPY_MODEL_2f0f23b7da4941bfadae00c2b78bd990",
              "IPY_MODEL_c2946f35d00c4a14a2c5ee662f1634fb"
            ]
          }
        },
        "a52becf4eb1b4336b2ca46151a76a668": {
          "model_module": "@jupyter-widgets/base",
          "model_name": "LayoutModel",
          "state": {
            "_view_name": "LayoutView",
            "grid_template_rows": null,
            "right": null,
            "justify_content": null,
            "_view_module": "@jupyter-widgets/base",
            "overflow": null,
            "_model_module_version": "1.2.0",
            "_view_count": null,
            "flex_flow": null,
            "width": null,
            "min_width": null,
            "border": null,
            "align_items": null,
            "bottom": null,
            "_model_module": "@jupyter-widgets/base",
            "top": null,
            "grid_column": null,
            "overflow_y": null,
            "overflow_x": null,
            "grid_auto_flow": null,
            "grid_area": null,
            "grid_template_columns": null,
            "flex": null,
            "_model_name": "LayoutModel",
            "justify_items": null,
            "grid_row": null,
            "max_height": null,
            "align_content": null,
            "visibility": null,
            "align_self": null,
            "height": null,
            "min_height": null,
            "padding": null,
            "grid_auto_rows": null,
            "grid_gap": null,
            "max_width": null,
            "order": null,
            "_view_module_version": "1.2.0",
            "grid_template_areas": null,
            "object_position": null,
            "object_fit": null,
            "grid_auto_columns": null,
            "margin": null,
            "display": null,
            "left": null
          }
        },
        "2f0f23b7da4941bfadae00c2b78bd990": {
          "model_module": "@jupyter-widgets/controls",
          "model_name": "FloatProgressModel",
          "state": {
            "_view_name": "ProgressView",
            "style": "IPY_MODEL_fbe3fbf3dfef434aab96df57ab71ae69",
            "_dom_classes": [],
            "description": "Training HMMs: 100%",
            "_model_name": "FloatProgressModel",
            "bar_style": "success",
            "max": 10,
            "_view_module": "@jupyter-widgets/controls",
            "_model_module_version": "1.5.0",
            "value": 10,
            "_view_count": null,
            "_view_module_version": "1.5.0",
            "orientation": "horizontal",
            "min": 0,
            "description_tooltip": null,
            "_model_module": "@jupyter-widgets/controls",
            "layout": "IPY_MODEL_18f341afaf87410d9dc15321a352c504"
          }
        },
        "c2946f35d00c4a14a2c5ee662f1634fb": {
          "model_module": "@jupyter-widgets/controls",
          "model_name": "HTMLModel",
          "state": {
            "_view_name": "HTMLView",
            "style": "IPY_MODEL_7ff4d704bab34d798f4af3362ba3c349",
            "_dom_classes": [],
            "description": "",
            "_model_name": "HTMLModel",
            "placeholder": "​",
            "_view_module": "@jupyter-widgets/controls",
            "_model_module_version": "1.5.0",
            "value": " 10/10 [1:05:05&lt;00:00, 390.56s/it]",
            "_view_count": null,
            "_view_module_version": "1.5.0",
            "description_tooltip": null,
            "_model_module": "@jupyter-widgets/controls",
            "layout": "IPY_MODEL_25161125adc14dcab5f51af2068927ce"
          }
        },
        "fbe3fbf3dfef434aab96df57ab71ae69": {
          "model_module": "@jupyter-widgets/controls",
          "model_name": "ProgressStyleModel",
          "state": {
            "_view_name": "StyleView",
            "_model_name": "ProgressStyleModel",
            "description_width": "initial",
            "_view_module": "@jupyter-widgets/base",
            "_model_module_version": "1.5.0",
            "_view_count": null,
            "_view_module_version": "1.2.0",
            "bar_color": null,
            "_model_module": "@jupyter-widgets/controls"
          }
        },
        "18f341afaf87410d9dc15321a352c504": {
          "model_module": "@jupyter-widgets/base",
          "model_name": "LayoutModel",
          "state": {
            "_view_name": "LayoutView",
            "grid_template_rows": null,
            "right": null,
            "justify_content": null,
            "_view_module": "@jupyter-widgets/base",
            "overflow": null,
            "_model_module_version": "1.2.0",
            "_view_count": null,
            "flex_flow": null,
            "width": null,
            "min_width": null,
            "border": null,
            "align_items": null,
            "bottom": null,
            "_model_module": "@jupyter-widgets/base",
            "top": null,
            "grid_column": null,
            "overflow_y": null,
            "overflow_x": null,
            "grid_auto_flow": null,
            "grid_area": null,
            "grid_template_columns": null,
            "flex": null,
            "_model_name": "LayoutModel",
            "justify_items": null,
            "grid_row": null,
            "max_height": null,
            "align_content": null,
            "visibility": null,
            "align_self": null,
            "height": null,
            "min_height": null,
            "padding": null,
            "grid_auto_rows": null,
            "grid_gap": null,
            "max_width": null,
            "order": null,
            "_view_module_version": "1.2.0",
            "grid_template_areas": null,
            "object_position": null,
            "object_fit": null,
            "grid_auto_columns": null,
            "margin": null,
            "display": null,
            "left": null
          }
        },
        "7ff4d704bab34d798f4af3362ba3c349": {
          "model_module": "@jupyter-widgets/controls",
          "model_name": "DescriptionStyleModel",
          "state": {
            "_view_name": "StyleView",
            "_model_name": "DescriptionStyleModel",
            "description_width": "",
            "_view_module": "@jupyter-widgets/base",
            "_model_module_version": "1.5.0",
            "_view_count": null,
            "_view_module_version": "1.2.0",
            "_model_module": "@jupyter-widgets/controls"
          }
        },
        "25161125adc14dcab5f51af2068927ce": {
          "model_module": "@jupyter-widgets/base",
          "model_name": "LayoutModel",
          "state": {
            "_view_name": "LayoutView",
            "grid_template_rows": null,
            "right": null,
            "justify_content": null,
            "_view_module": "@jupyter-widgets/base",
            "overflow": null,
            "_model_module_version": "1.2.0",
            "_view_count": null,
            "flex_flow": null,
            "width": null,
            "min_width": null,
            "border": null,
            "align_items": null,
            "bottom": null,
            "_model_module": "@jupyter-widgets/base",
            "top": null,
            "grid_column": null,
            "overflow_y": null,
            "overflow_x": null,
            "grid_auto_flow": null,
            "grid_area": null,
            "grid_template_columns": null,
            "flex": null,
            "_model_name": "LayoutModel",
            "justify_items": null,
            "grid_row": null,
            "max_height": null,
            "align_content": null,
            "visibility": null,
            "align_self": null,
            "height": null,
            "min_height": null,
            "padding": null,
            "grid_auto_rows": null,
            "grid_gap": null,
            "max_width": null,
            "order": null,
            "_view_module_version": "1.2.0",
            "grid_template_areas": null,
            "object_position": null,
            "object_fit": null,
            "grid_auto_columns": null,
            "margin": null,
            "display": null,
            "left": null
          }
        },
        "dbdfe8352aff432b999d40cb7292691f": {
          "model_module": "@jupyter-widgets/controls",
          "model_name": "HBoxModel",
          "state": {
            "_view_name": "HBoxView",
            "_dom_classes": [],
            "_model_name": "HBoxModel",
            "_view_module": "@jupyter-widgets/controls",
            "_model_module_version": "1.5.0",
            "_view_count": null,
            "_view_module_version": "1.5.0",
            "box_style": "",
            "layout": "IPY_MODEL_6dbedf8629c74a4da80f912c124d77cb",
            "_model_module": "@jupyter-widgets/controls",
            "children": [
              "IPY_MODEL_c34a317c2abb47519354b390bd4b3572",
              "IPY_MODEL_5efee351ea204a0aa3783e86c3fc7362"
            ]
          }
        },
        "6dbedf8629c74a4da80f912c124d77cb": {
          "model_module": "@jupyter-widgets/base",
          "model_name": "LayoutModel",
          "state": {
            "_view_name": "LayoutView",
            "grid_template_rows": null,
            "right": null,
            "justify_content": null,
            "_view_module": "@jupyter-widgets/base",
            "overflow": null,
            "_model_module_version": "1.2.0",
            "_view_count": null,
            "flex_flow": null,
            "width": null,
            "min_width": null,
            "border": null,
            "align_items": null,
            "bottom": null,
            "_model_module": "@jupyter-widgets/base",
            "top": null,
            "grid_column": null,
            "overflow_y": null,
            "overflow_x": null,
            "grid_auto_flow": null,
            "grid_area": null,
            "grid_template_columns": null,
            "flex": null,
            "_model_name": "LayoutModel",
            "justify_items": null,
            "grid_row": null,
            "max_height": null,
            "align_content": null,
            "visibility": null,
            "align_self": null,
            "height": null,
            "min_height": null,
            "padding": null,
            "grid_auto_rows": null,
            "grid_gap": null,
            "max_width": null,
            "order": null,
            "_view_module_version": "1.2.0",
            "grid_template_areas": null,
            "object_position": null,
            "object_fit": null,
            "grid_auto_columns": null,
            "margin": null,
            "display": null,
            "left": null
          }
        },
        "c34a317c2abb47519354b390bd4b3572": {
          "model_module": "@jupyter-widgets/controls",
          "model_name": "FloatProgressModel",
          "state": {
            "_view_name": "ProgressView",
            "style": "IPY_MODEL_800d7e1ab32742198239d1edab0e2561",
            "_dom_classes": [],
            "description": "Classifying examples (process 1): 100%",
            "_model_name": "FloatProgressModel",
            "bar_style": "success",
            "max": 14000,
            "_view_module": "@jupyter-widgets/controls",
            "_model_module_version": "1.5.0",
            "value": 14000,
            "_view_count": null,
            "_view_module_version": "1.5.0",
            "orientation": "horizontal",
            "min": 0,
            "description_tooltip": null,
            "_model_module": "@jupyter-widgets/controls",
            "layout": "IPY_MODEL_f6533d07ad744ad59671d28e1d08978f"
          }
        },
        "5efee351ea204a0aa3783e86c3fc7362": {
          "model_module": "@jupyter-widgets/controls",
          "model_name": "HTMLModel",
          "state": {
            "_view_name": "HTMLView",
            "style": "IPY_MODEL_94e29e8281a142fbb691125dccc68e7f",
            "_dom_classes": [],
            "description": "",
            "_model_name": "HTMLModel",
            "placeholder": "​",
            "_view_module": "@jupyter-widgets/controls",
            "_model_module_version": "1.5.0",
            "value": " 14000/14000 [44:35&lt;00:00,  5.23it/s]",
            "_view_count": null,
            "_view_module_version": "1.5.0",
            "description_tooltip": null,
            "_model_module": "@jupyter-widgets/controls",
            "layout": "IPY_MODEL_84c3541b34fe451cbbdce7a27d66a7e3"
          }
        },
        "800d7e1ab32742198239d1edab0e2561": {
          "model_module": "@jupyter-widgets/controls",
          "model_name": "ProgressStyleModel",
          "state": {
            "_view_name": "StyleView",
            "_model_name": "ProgressStyleModel",
            "description_width": "initial",
            "_view_module": "@jupyter-widgets/base",
            "_model_module_version": "1.5.0",
            "_view_count": null,
            "_view_module_version": "1.2.0",
            "bar_color": null,
            "_model_module": "@jupyter-widgets/controls"
          }
        },
        "f6533d07ad744ad59671d28e1d08978f": {
          "model_module": "@jupyter-widgets/base",
          "model_name": "LayoutModel",
          "state": {
            "_view_name": "LayoutView",
            "grid_template_rows": null,
            "right": null,
            "justify_content": null,
            "_view_module": "@jupyter-widgets/base",
            "overflow": null,
            "_model_module_version": "1.2.0",
            "_view_count": null,
            "flex_flow": null,
            "width": null,
            "min_width": null,
            "border": null,
            "align_items": null,
            "bottom": null,
            "_model_module": "@jupyter-widgets/base",
            "top": null,
            "grid_column": null,
            "overflow_y": null,
            "overflow_x": null,
            "grid_auto_flow": null,
            "grid_area": null,
            "grid_template_columns": null,
            "flex": null,
            "_model_name": "LayoutModel",
            "justify_items": null,
            "grid_row": null,
            "max_height": null,
            "align_content": null,
            "visibility": null,
            "align_self": null,
            "height": null,
            "min_height": null,
            "padding": null,
            "grid_auto_rows": null,
            "grid_gap": null,
            "max_width": null,
            "order": null,
            "_view_module_version": "1.2.0",
            "grid_template_areas": null,
            "object_position": null,
            "object_fit": null,
            "grid_auto_columns": null,
            "margin": null,
            "display": null,
            "left": null
          }
        },
        "94e29e8281a142fbb691125dccc68e7f": {
          "model_module": "@jupyter-widgets/controls",
          "model_name": "DescriptionStyleModel",
          "state": {
            "_view_name": "StyleView",
            "_model_name": "DescriptionStyleModel",
            "description_width": "",
            "_view_module": "@jupyter-widgets/base",
            "_model_module_version": "1.5.0",
            "_view_count": null,
            "_view_module_version": "1.2.0",
            "_model_module": "@jupyter-widgets/controls"
          }
        },
        "84c3541b34fe451cbbdce7a27d66a7e3": {
          "model_module": "@jupyter-widgets/base",
          "model_name": "LayoutModel",
          "state": {
            "_view_name": "LayoutView",
            "grid_template_rows": null,
            "right": null,
            "justify_content": null,
            "_view_module": "@jupyter-widgets/base",
            "overflow": null,
            "_model_module_version": "1.2.0",
            "_view_count": null,
            "flex_flow": null,
            "width": null,
            "min_width": null,
            "border": null,
            "align_items": null,
            "bottom": null,
            "_model_module": "@jupyter-widgets/base",
            "top": null,
            "grid_column": null,
            "overflow_y": null,
            "overflow_x": null,
            "grid_auto_flow": null,
            "grid_area": null,
            "grid_template_columns": null,
            "flex": null,
            "_model_name": "LayoutModel",
            "justify_items": null,
            "grid_row": null,
            "max_height": null,
            "align_content": null,
            "visibility": null,
            "align_self": null,
            "height": null,
            "min_height": null,
            "padding": null,
            "grid_auto_rows": null,
            "grid_gap": null,
            "max_width": null,
            "order": null,
            "_view_module_version": "1.2.0",
            "grid_template_areas": null,
            "object_position": null,
            "object_fit": null,
            "grid_auto_columns": null,
            "margin": null,
            "display": null,
            "left": null
          }
        },
        "8574107350e048dda7694b17a23f1842": {
          "model_module": "@jupyter-widgets/controls",
          "model_name": "HBoxModel",
          "state": {
            "_view_name": "HBoxView",
            "_dom_classes": [],
            "_model_name": "HBoxModel",
            "_view_module": "@jupyter-widgets/controls",
            "_model_module_version": "1.5.0",
            "_view_count": null,
            "_view_module_version": "1.5.0",
            "box_style": "",
            "layout": "IPY_MODEL_e60e4f3417f14c8bb56ebacfa2ef0ea6",
            "_model_module": "@jupyter-widgets/controls",
            "children": [
              "IPY_MODEL_2325753e76a64c7aa86c159c70622bce",
              "IPY_MODEL_0f20d87d1c3c4964ab576614fb072e6d"
            ]
          }
        },
        "e60e4f3417f14c8bb56ebacfa2ef0ea6": {
          "model_module": "@jupyter-widgets/base",
          "model_name": "LayoutModel",
          "state": {
            "_view_name": "LayoutView",
            "grid_template_rows": null,
            "right": null,
            "justify_content": null,
            "_view_module": "@jupyter-widgets/base",
            "overflow": null,
            "_model_module_version": "1.2.0",
            "_view_count": null,
            "flex_flow": null,
            "width": null,
            "min_width": null,
            "border": null,
            "align_items": null,
            "bottom": null,
            "_model_module": "@jupyter-widgets/base",
            "top": null,
            "grid_column": null,
            "overflow_y": null,
            "overflow_x": null,
            "grid_auto_flow": null,
            "grid_area": null,
            "grid_template_columns": null,
            "flex": null,
            "_model_name": "LayoutModel",
            "justify_items": null,
            "grid_row": null,
            "max_height": null,
            "align_content": null,
            "visibility": null,
            "align_self": null,
            "height": null,
            "min_height": null,
            "padding": null,
            "grid_auto_rows": null,
            "grid_gap": null,
            "max_width": null,
            "order": null,
            "_view_module_version": "1.2.0",
            "grid_template_areas": null,
            "object_position": null,
            "object_fit": null,
            "grid_auto_columns": null,
            "margin": null,
            "display": null,
            "left": null
          }
        },
        "2325753e76a64c7aa86c159c70622bce": {
          "model_module": "@jupyter-widgets/controls",
          "model_name": "FloatProgressModel",
          "state": {
            "_view_name": "ProgressView",
            "style": "IPY_MODEL_f59bc22d85ed4ea8b0f9e4290e6188f2",
            "_dom_classes": [],
            "description": "Training HMMs: 100%",
            "_model_name": "FloatProgressModel",
            "bar_style": "success",
            "max": 10,
            "_view_module": "@jupyter-widgets/controls",
            "_model_module_version": "1.5.0",
            "value": 10,
            "_view_count": null,
            "_view_module_version": "1.5.0",
            "orientation": "horizontal",
            "min": 0,
            "description_tooltip": null,
            "_model_module": "@jupyter-widgets/controls",
            "layout": "IPY_MODEL_f7a15e3d98644a98b0d005446f920c7f"
          }
        },
        "0f20d87d1c3c4964ab576614fb072e6d": {
          "model_module": "@jupyter-widgets/controls",
          "model_name": "HTMLModel",
          "state": {
            "_view_name": "HTMLView",
            "style": "IPY_MODEL_61b24a0058e24cb7a1294d45d24b0287",
            "_dom_classes": [],
            "description": "",
            "_model_name": "HTMLModel",
            "placeholder": "​",
            "_view_module": "@jupyter-widgets/controls",
            "_model_module_version": "1.5.0",
            "value": " 10/10 [21:36&lt;00:00, 129.61s/it]",
            "_view_count": null,
            "_view_module_version": "1.5.0",
            "description_tooltip": null,
            "_model_module": "@jupyter-widgets/controls",
            "layout": "IPY_MODEL_ef28e19850b347548b1104a67a0e1c7a"
          }
        },
        "f59bc22d85ed4ea8b0f9e4290e6188f2": {
          "model_module": "@jupyter-widgets/controls",
          "model_name": "ProgressStyleModel",
          "state": {
            "_view_name": "StyleView",
            "_model_name": "ProgressStyleModel",
            "description_width": "initial",
            "_view_module": "@jupyter-widgets/base",
            "_model_module_version": "1.5.0",
            "_view_count": null,
            "_view_module_version": "1.2.0",
            "bar_color": null,
            "_model_module": "@jupyter-widgets/controls"
          }
        },
        "f7a15e3d98644a98b0d005446f920c7f": {
          "model_module": "@jupyter-widgets/base",
          "model_name": "LayoutModel",
          "state": {
            "_view_name": "LayoutView",
            "grid_template_rows": null,
            "right": null,
            "justify_content": null,
            "_view_module": "@jupyter-widgets/base",
            "overflow": null,
            "_model_module_version": "1.2.0",
            "_view_count": null,
            "flex_flow": null,
            "width": null,
            "min_width": null,
            "border": null,
            "align_items": null,
            "bottom": null,
            "_model_module": "@jupyter-widgets/base",
            "top": null,
            "grid_column": null,
            "overflow_y": null,
            "overflow_x": null,
            "grid_auto_flow": null,
            "grid_area": null,
            "grid_template_columns": null,
            "flex": null,
            "_model_name": "LayoutModel",
            "justify_items": null,
            "grid_row": null,
            "max_height": null,
            "align_content": null,
            "visibility": null,
            "align_self": null,
            "height": null,
            "min_height": null,
            "padding": null,
            "grid_auto_rows": null,
            "grid_gap": null,
            "max_width": null,
            "order": null,
            "_view_module_version": "1.2.0",
            "grid_template_areas": null,
            "object_position": null,
            "object_fit": null,
            "grid_auto_columns": null,
            "margin": null,
            "display": null,
            "left": null
          }
        },
        "61b24a0058e24cb7a1294d45d24b0287": {
          "model_module": "@jupyter-widgets/controls",
          "model_name": "DescriptionStyleModel",
          "state": {
            "_view_name": "StyleView",
            "_model_name": "DescriptionStyleModel",
            "description_width": "",
            "_view_module": "@jupyter-widgets/base",
            "_model_module_version": "1.5.0",
            "_view_count": null,
            "_view_module_version": "1.2.0",
            "_model_module": "@jupyter-widgets/controls"
          }
        },
        "ef28e19850b347548b1104a67a0e1c7a": {
          "model_module": "@jupyter-widgets/base",
          "model_name": "LayoutModel",
          "state": {
            "_view_name": "LayoutView",
            "grid_template_rows": null,
            "right": null,
            "justify_content": null,
            "_view_module": "@jupyter-widgets/base",
            "overflow": null,
            "_model_module_version": "1.2.0",
            "_view_count": null,
            "flex_flow": null,
            "width": null,
            "min_width": null,
            "border": null,
            "align_items": null,
            "bottom": null,
            "_model_module": "@jupyter-widgets/base",
            "top": null,
            "grid_column": null,
            "overflow_y": null,
            "overflow_x": null,
            "grid_auto_flow": null,
            "grid_area": null,
            "grid_template_columns": null,
            "flex": null,
            "_model_name": "LayoutModel",
            "justify_items": null,
            "grid_row": null,
            "max_height": null,
            "align_content": null,
            "visibility": null,
            "align_self": null,
            "height": null,
            "min_height": null,
            "padding": null,
            "grid_auto_rows": null,
            "grid_gap": null,
            "max_width": null,
            "order": null,
            "_view_module_version": "1.2.0",
            "grid_template_areas": null,
            "object_position": null,
            "object_fit": null,
            "grid_auto_columns": null,
            "margin": null,
            "display": null,
            "left": null
          }
        },
        "9fb28262c6c541d19334dcfdb89843c2": {
          "model_module": "@jupyter-widgets/controls",
          "model_name": "HBoxModel",
          "state": {
            "_view_name": "HBoxView",
            "_dom_classes": [],
            "_model_name": "HBoxModel",
            "_view_module": "@jupyter-widgets/controls",
            "_model_module_version": "1.5.0",
            "_view_count": null,
            "_view_module_version": "1.5.0",
            "box_style": "",
            "layout": "IPY_MODEL_9ea5d24952bb44628b2a4a0ea254ed45",
            "_model_module": "@jupyter-widgets/controls",
            "children": [
              "IPY_MODEL_02b2e30c17dd4588a416de5cc42fac85",
              "IPY_MODEL_a3bd2e948dc64225a388ee33ab528e91"
            ]
          }
        },
        "9ea5d24952bb44628b2a4a0ea254ed45": {
          "model_module": "@jupyter-widgets/base",
          "model_name": "LayoutModel",
          "state": {
            "_view_name": "LayoutView",
            "grid_template_rows": null,
            "right": null,
            "justify_content": null,
            "_view_module": "@jupyter-widgets/base",
            "overflow": null,
            "_model_module_version": "1.2.0",
            "_view_count": null,
            "flex_flow": null,
            "width": null,
            "min_width": null,
            "border": null,
            "align_items": null,
            "bottom": null,
            "_model_module": "@jupyter-widgets/base",
            "top": null,
            "grid_column": null,
            "overflow_y": null,
            "overflow_x": null,
            "grid_auto_flow": null,
            "grid_area": null,
            "grid_template_columns": null,
            "flex": null,
            "_model_name": "LayoutModel",
            "justify_items": null,
            "grid_row": null,
            "max_height": null,
            "align_content": null,
            "visibility": null,
            "align_self": null,
            "height": null,
            "min_height": null,
            "padding": null,
            "grid_auto_rows": null,
            "grid_gap": null,
            "max_width": null,
            "order": null,
            "_view_module_version": "1.2.0",
            "grid_template_areas": null,
            "object_position": null,
            "object_fit": null,
            "grid_auto_columns": null,
            "margin": null,
            "display": null,
            "left": null
          }
        },
        "02b2e30c17dd4588a416de5cc42fac85": {
          "model_module": "@jupyter-widgets/controls",
          "model_name": "FloatProgressModel",
          "state": {
            "_view_name": "ProgressView",
            "style": "IPY_MODEL_bc8ea2a28bdc443d8652c69cf5a8816e",
            "_dom_classes": [],
            "description": "Classifying examples (process 1): 100%",
            "_model_name": "FloatProgressModel",
            "bar_style": "success",
            "max": 14000,
            "_view_module": "@jupyter-widgets/controls",
            "_model_module_version": "1.5.0",
            "value": 14000,
            "_view_count": null,
            "_view_module_version": "1.5.0",
            "orientation": "horizontal",
            "min": 0,
            "description_tooltip": null,
            "_model_module": "@jupyter-widgets/controls",
            "layout": "IPY_MODEL_c9b696a12e434c0bbdeb4e3bd878f49c"
          }
        },
        "a3bd2e948dc64225a388ee33ab528e91": {
          "model_module": "@jupyter-widgets/controls",
          "model_name": "HTMLModel",
          "state": {
            "_view_name": "HTMLView",
            "style": "IPY_MODEL_854007774ffc41b78597cecc91441d76",
            "_dom_classes": [],
            "description": "",
            "_model_name": "HTMLModel",
            "placeholder": "​",
            "_view_module": "@jupyter-widgets/controls",
            "_model_module_version": "1.5.0",
            "value": " 14000/14000 [04:40&lt;00:00, 49.89it/s]",
            "_view_count": null,
            "_view_module_version": "1.5.0",
            "description_tooltip": null,
            "_model_module": "@jupyter-widgets/controls",
            "layout": "IPY_MODEL_8eb3a572e4fe41fd9d95acf35cb04357"
          }
        },
        "bc8ea2a28bdc443d8652c69cf5a8816e": {
          "model_module": "@jupyter-widgets/controls",
          "model_name": "ProgressStyleModel",
          "state": {
            "_view_name": "StyleView",
            "_model_name": "ProgressStyleModel",
            "description_width": "initial",
            "_view_module": "@jupyter-widgets/base",
            "_model_module_version": "1.5.0",
            "_view_count": null,
            "_view_module_version": "1.2.0",
            "bar_color": null,
            "_model_module": "@jupyter-widgets/controls"
          }
        },
        "c9b696a12e434c0bbdeb4e3bd878f49c": {
          "model_module": "@jupyter-widgets/base",
          "model_name": "LayoutModel",
          "state": {
            "_view_name": "LayoutView",
            "grid_template_rows": null,
            "right": null,
            "justify_content": null,
            "_view_module": "@jupyter-widgets/base",
            "overflow": null,
            "_model_module_version": "1.2.0",
            "_view_count": null,
            "flex_flow": null,
            "width": null,
            "min_width": null,
            "border": null,
            "align_items": null,
            "bottom": null,
            "_model_module": "@jupyter-widgets/base",
            "top": null,
            "grid_column": null,
            "overflow_y": null,
            "overflow_x": null,
            "grid_auto_flow": null,
            "grid_area": null,
            "grid_template_columns": null,
            "flex": null,
            "_model_name": "LayoutModel",
            "justify_items": null,
            "grid_row": null,
            "max_height": null,
            "align_content": null,
            "visibility": null,
            "align_self": null,
            "height": null,
            "min_height": null,
            "padding": null,
            "grid_auto_rows": null,
            "grid_gap": null,
            "max_width": null,
            "order": null,
            "_view_module_version": "1.2.0",
            "grid_template_areas": null,
            "object_position": null,
            "object_fit": null,
            "grid_auto_columns": null,
            "margin": null,
            "display": null,
            "left": null
          }
        },
        "854007774ffc41b78597cecc91441d76": {
          "model_module": "@jupyter-widgets/controls",
          "model_name": "DescriptionStyleModel",
          "state": {
            "_view_name": "StyleView",
            "_model_name": "DescriptionStyleModel",
            "description_width": "",
            "_view_module": "@jupyter-widgets/base",
            "_model_module_version": "1.5.0",
            "_view_count": null,
            "_view_module_version": "1.2.0",
            "_model_module": "@jupyter-widgets/controls"
          }
        },
        "8eb3a572e4fe41fd9d95acf35cb04357": {
          "model_module": "@jupyter-widgets/base",
          "model_name": "LayoutModel",
          "state": {
            "_view_name": "LayoutView",
            "grid_template_rows": null,
            "right": null,
            "justify_content": null,
            "_view_module": "@jupyter-widgets/base",
            "overflow": null,
            "_model_module_version": "1.2.0",
            "_view_count": null,
            "flex_flow": null,
            "width": null,
            "min_width": null,
            "border": null,
            "align_items": null,
            "bottom": null,
            "_model_module": "@jupyter-widgets/base",
            "top": null,
            "grid_column": null,
            "overflow_y": null,
            "overflow_x": null,
            "grid_auto_flow": null,
            "grid_area": null,
            "grid_template_columns": null,
            "flex": null,
            "_model_name": "LayoutModel",
            "justify_items": null,
            "grid_row": null,
            "max_height": null,
            "align_content": null,
            "visibility": null,
            "align_self": null,
            "height": null,
            "min_height": null,
            "padding": null,
            "grid_auto_rows": null,
            "grid_gap": null,
            "max_width": null,
            "order": null,
            "_view_module_version": "1.2.0",
            "grid_template_areas": null,
            "object_position": null,
            "object_fit": null,
            "grid_auto_columns": null,
            "margin": null,
            "display": null,
            "left": null
          }
        },
        "476c380e8dfb4ee4b10711d61572bbfc": {
          "model_module": "@jupyter-widgets/controls",
          "model_name": "HBoxModel",
          "state": {
            "_view_name": "HBoxView",
            "_dom_classes": [],
            "_model_name": "HBoxModel",
            "_view_module": "@jupyter-widgets/controls",
            "_model_module_version": "1.5.0",
            "_view_count": null,
            "_view_module_version": "1.5.0",
            "box_style": "",
            "layout": "IPY_MODEL_39cb97b606a546c09dda0d1bdcf7e779",
            "_model_module": "@jupyter-widgets/controls",
            "children": [
              "IPY_MODEL_3c8257308996450888e110bd464eaadb",
              "IPY_MODEL_7b5d1c8e85804a9298ba3d042dae7f70"
            ]
          }
        },
        "39cb97b606a546c09dda0d1bdcf7e779": {
          "model_module": "@jupyter-widgets/base",
          "model_name": "LayoutModel",
          "state": {
            "_view_name": "LayoutView",
            "grid_template_rows": null,
            "right": null,
            "justify_content": null,
            "_view_module": "@jupyter-widgets/base",
            "overflow": null,
            "_model_module_version": "1.2.0",
            "_view_count": null,
            "flex_flow": null,
            "width": null,
            "min_width": null,
            "border": null,
            "align_items": null,
            "bottom": null,
            "_model_module": "@jupyter-widgets/base",
            "top": null,
            "grid_column": null,
            "overflow_y": null,
            "overflow_x": null,
            "grid_auto_flow": null,
            "grid_area": null,
            "grid_template_columns": null,
            "flex": null,
            "_model_name": "LayoutModel",
            "justify_items": null,
            "grid_row": null,
            "max_height": null,
            "align_content": null,
            "visibility": null,
            "align_self": null,
            "height": null,
            "min_height": null,
            "padding": null,
            "grid_auto_rows": null,
            "grid_gap": null,
            "max_width": null,
            "order": null,
            "_view_module_version": "1.2.0",
            "grid_template_areas": null,
            "object_position": null,
            "object_fit": null,
            "grid_auto_columns": null,
            "margin": null,
            "display": null,
            "left": null
          }
        },
        "3c8257308996450888e110bd464eaadb": {
          "model_module": "@jupyter-widgets/controls",
          "model_name": "FloatProgressModel",
          "state": {
            "_view_name": "ProgressView",
            "style": "IPY_MODEL_bce75fec03dc4b7196f04dbfc862f8c3",
            "_dom_classes": [],
            "description": "Classifying examples (process 1): 100%",
            "_model_name": "FloatProgressModel",
            "bar_style": "success",
            "max": 70000,
            "_view_module": "@jupyter-widgets/controls",
            "_model_module_version": "1.5.0",
            "value": 70000,
            "_view_count": null,
            "_view_module_version": "1.5.0",
            "orientation": "horizontal",
            "min": 0,
            "description_tooltip": null,
            "_model_module": "@jupyter-widgets/controls",
            "layout": "IPY_MODEL_52d77d894e66433ab85fda28b190fc57"
          }
        },
        "7b5d1c8e85804a9298ba3d042dae7f70": {
          "model_module": "@jupyter-widgets/controls",
          "model_name": "HTMLModel",
          "state": {
            "_view_name": "HTMLView",
            "style": "IPY_MODEL_c25c03997c724d9786a37344bf060318",
            "_dom_classes": [],
            "description": "",
            "_model_name": "HTMLModel",
            "placeholder": "​",
            "_view_module": "@jupyter-widgets/controls",
            "_model_module_version": "1.5.0",
            "value": " 70000/70000 [24:28&lt;00:00, 47.67it/s]",
            "_view_count": null,
            "_view_module_version": "1.5.0",
            "description_tooltip": null,
            "_model_module": "@jupyter-widgets/controls",
            "layout": "IPY_MODEL_d221322e97c4490f8fbfe6d0f87f1d60"
          }
        },
        "bce75fec03dc4b7196f04dbfc862f8c3": {
          "model_module": "@jupyter-widgets/controls",
          "model_name": "ProgressStyleModel",
          "state": {
            "_view_name": "StyleView",
            "_model_name": "ProgressStyleModel",
            "description_width": "initial",
            "_view_module": "@jupyter-widgets/base",
            "_model_module_version": "1.5.0",
            "_view_count": null,
            "_view_module_version": "1.2.0",
            "bar_color": null,
            "_model_module": "@jupyter-widgets/controls"
          }
        },
        "52d77d894e66433ab85fda28b190fc57": {
          "model_module": "@jupyter-widgets/base",
          "model_name": "LayoutModel",
          "state": {
            "_view_name": "LayoutView",
            "grid_template_rows": null,
            "right": null,
            "justify_content": null,
            "_view_module": "@jupyter-widgets/base",
            "overflow": null,
            "_model_module_version": "1.2.0",
            "_view_count": null,
            "flex_flow": null,
            "width": null,
            "min_width": null,
            "border": null,
            "align_items": null,
            "bottom": null,
            "_model_module": "@jupyter-widgets/base",
            "top": null,
            "grid_column": null,
            "overflow_y": null,
            "overflow_x": null,
            "grid_auto_flow": null,
            "grid_area": null,
            "grid_template_columns": null,
            "flex": null,
            "_model_name": "LayoutModel",
            "justify_items": null,
            "grid_row": null,
            "max_height": null,
            "align_content": null,
            "visibility": null,
            "align_self": null,
            "height": null,
            "min_height": null,
            "padding": null,
            "grid_auto_rows": null,
            "grid_gap": null,
            "max_width": null,
            "order": null,
            "_view_module_version": "1.2.0",
            "grid_template_areas": null,
            "object_position": null,
            "object_fit": null,
            "grid_auto_columns": null,
            "margin": null,
            "display": null,
            "left": null
          }
        },
        "c25c03997c724d9786a37344bf060318": {
          "model_module": "@jupyter-widgets/controls",
          "model_name": "DescriptionStyleModel",
          "state": {
            "_view_name": "StyleView",
            "_model_name": "DescriptionStyleModel",
            "description_width": "",
            "_view_module": "@jupyter-widgets/base",
            "_model_module_version": "1.5.0",
            "_view_count": null,
            "_view_module_version": "1.2.0",
            "_model_module": "@jupyter-widgets/controls"
          }
        },
        "d221322e97c4490f8fbfe6d0f87f1d60": {
          "model_module": "@jupyter-widgets/base",
          "model_name": "LayoutModel",
          "state": {
            "_view_name": "LayoutView",
            "grid_template_rows": null,
            "right": null,
            "justify_content": null,
            "_view_module": "@jupyter-widgets/base",
            "overflow": null,
            "_model_module_version": "1.2.0",
            "_view_count": null,
            "flex_flow": null,
            "width": null,
            "min_width": null,
            "border": null,
            "align_items": null,
            "bottom": null,
            "_model_module": "@jupyter-widgets/base",
            "top": null,
            "grid_column": null,
            "overflow_y": null,
            "overflow_x": null,
            "grid_auto_flow": null,
            "grid_area": null,
            "grid_template_columns": null,
            "flex": null,
            "_model_name": "LayoutModel",
            "justify_items": null,
            "grid_row": null,
            "max_height": null,
            "align_content": null,
            "visibility": null,
            "align_self": null,
            "height": null,
            "min_height": null,
            "padding": null,
            "grid_auto_rows": null,
            "grid_gap": null,
            "max_width": null,
            "order": null,
            "_view_module_version": "1.2.0",
            "grid_template_areas": null,
            "object_position": null,
            "object_fit": null,
            "grid_auto_columns": null,
            "margin": null,
            "display": null,
            "left": null
          }
        }
      }
    }
  },
  "cells": [
    {
      "cell_type": "markdown",
      "metadata": {
        "id": "view-in-github",
        "colab_type": "text"
      },
      "source": [
        "<a href=\"https://colab.research.google.com/github/GhTara/Mnist_HMM/blob/main/hmm_and_hybrid_hmm.ipynb\" target=\"_parent\"><img src=\"https://colab.research.google.com/assets/colab-badge.svg\" alt=\"Open In Colab\"/></a>"
      ]
    },
    {
      "cell_type": "markdown",
      "metadata": {
        "id": "iiHTeBWgYkYN"
      },
      "source": [
        "#Import Libraries"
      ]
    },
    {
      "cell_type": "code",
      "metadata": {
        "id": "BEi8LRywJe0D"
      },
      "source": [
        "import numpy as np\n",
        "import matplotlib.pyplot as plt\n",
        "from keras.datasets import mnist  \n",
        "import cv2\n"
      ],
      "execution_count": null,
      "outputs": []
    },
    {
      "cell_type": "code",
      "metadata": {
        "id": "XXwRpTZcw91O"
      },
      "source": [
        "!pip install hmmlearn\n",
        "from hmmlearn import hmm"
      ],
      "execution_count": null,
      "outputs": []
    },
    {
      "cell_type": "code",
      "metadata": {
        "id": "WSJ-qKm16pm5"
      },
      "source": [
        "from google.colab import drive\n",
        "drive.mount('/content/drive')"
      ],
      "execution_count": null,
      "outputs": []
    },
    {
      "cell_type": "code",
      "metadata": {
        "id": "17hicUZK64-8"
      },
      "source": [
        "%cd /content/drive/MyDrive/package/"
      ],
      "execution_count": null,
      "outputs": []
    },
    {
      "cell_type": "code",
      "metadata": {
        "id": "WiDWJPd37wlE"
      },
      "source": [
        "# !tar -xvf /content/drive/MyDrive/package/sequentia-0.12.0.tar.gz"
      ],
      "execution_count": null,
      "outputs": []
    },
    {
      "cell_type": "code",
      "metadata": {
        "id": "wVQenJZ18EDr"
      },
      "source": [
        "%cd /content/drive/MyDrive/package/sequentia-0.12.0"
      ],
      "execution_count": null,
      "outputs": []
    },
    {
      "cell_type": "code",
      "metadata": {
        "id": "LdN8lQjE8JIn"
      },
      "source": [
        "!pip install dtaidistance\n",
        "!pip install torchfsdd"
      ],
      "execution_count": null,
      "outputs": []
    },
    {
      "cell_type": "code",
      "metadata": {
        "id": "41UsRFoVAYd_"
      },
      "source": [
        "pip install requirements-parser"
      ],
      "execution_count": null,
      "outputs": []
    },
    {
      "cell_type": "code",
      "metadata": {
        "id": "tFAaxHNA__tP"
      },
      "source": [
        "! pip install gevent --pre\n",
        "! pip install auto-py-to-exe"
      ],
      "execution_count": null,
      "outputs": []
    },
    {
      "cell_type": "code",
      "metadata": {
        "id": "64s0aoEU_dLp"
      },
      "source": [
        "!pip install ."
      ],
      "execution_count": null,
      "outputs": []
    },
    {
      "cell_type": "markdown",
      "metadata": {
        "id": "YoII58Wbpp6y"
      },
      "source": [
        "#DCT"
      ]
    },
    {
      "cell_type": "code",
      "metadata": {
        "id": "IKxQU5qqpvcb"
      },
      "source": [
        "# Import functions and libraries\n",
        "import numpy as np\n",
        "import matplotlib.pyplot as plt\n",
        "import scipy\n",
        "\n",
        "from numpy import pi\n",
        "from numpy import sin\n",
        "from numpy import zeros\n",
        "from numpy import r_\n",
        "from scipy import signal\n",
        "from scipy import misc \n",
        "import matplotlib.pylab as pylab\n",
        "\n",
        "%matplotlib inline"
      ],
      "execution_count": null,
      "outputs": []
    },
    {
      "cell_type": "code",
      "metadata": {
        "id": "ue0lQpMOq3j0"
      },
      "source": [
        "!pip install Pillow"
      ],
      "execution_count": null,
      "outputs": []
    },
    {
      "cell_type": "code",
      "metadata": {
        "id": "bapM5AbCrSko"
      },
      "source": [
        "from scipy import fftpack\n",
        "def dct2(a):\n",
        "    return fftpack.dct( scipy.fftpack.dct( a, axis=0, norm='ortho' ), axis=1, norm='ortho' )"
      ],
      "execution_count": null,
      "outputs": []
    },
    {
      "cell_type": "code",
      "metadata": {
        "id": "rEZJJQJHCYmH"
      },
      "source": [
        "! pip install scipy"
      ],
      "execution_count": null,
      "outputs": []
    },
    {
      "cell_type": "markdown",
      "metadata": {
        "id": "9xhcqKSyYwav"
      },
      "source": [
        "#Load Dataset"
      ]
    },
    {
      "cell_type": "code",
      "metadata": {
        "colab": {
          "base_uri": "https://localhost:8080/"
        },
        "id": "nqVLxBDp21Mi",
        "outputId": "c0eeefa0-611b-4c60-8d93-802dd8661a75"
      },
      "source": [
        "# load dataset\n",
        "(trainX, trainy), (testX, testy) = mnist.load_data()\n",
        "# summarize loaded dataset\n",
        "print('Train: X=%s, y=%s' % (trainX.shape, trainy.shape))\n",
        "print('Test: X=%s, y=%s' % (testX.shape, testy.shape))\n",
        "# plot first few images\n",
        "for i in range(9):\n",
        "\t# define subplot\n",
        "\tplt.subplot(330 + 1 + i)\n",
        "\t# plot raw pixel data\n",
        "\tplt.imshow(trainX[i], cmap=plt.get_cmap('gray'))\n",
        "# show the figure\n",
        "plt.show()"
      ],
      "execution_count": null,
      "outputs": [
        {
          "output_type": "stream",
          "text": [
            "Downloading data from https://storage.googleapis.com/tensorflow/tf-keras-datasets/mnist.npz\n",
            "11493376/11490434 [==============================] - 0s 0us/step\n",
            "11501568/11490434 [==============================] - 0s 0us/step\n",
            "Train: X=(60000, 28, 28), y=(60000,)\n",
            "Test: X=(10000, 28, 28), y=(10000,)\n"
          ],
          "name": "stdout"
        },
        {
          "output_type": "display_data",
          "data": {
            "image/png": "[encoded data removed]",
            "text/plain": [
              "<Figure size 432x288 with 9 Axes>"
            ]
          },
          "metadata": {
            "tags": [],
            "needs_background": "light"
          }
        }
      ]
    },
    {
      "cell_type": "code",
      "metadata": {
        "id": "5BshsNPsvLXi"
      },
      "source": [
        "# convert from integers to floats\n",
        "trainX_norm = trainX.astype('float32')\n",
        "testX_norm = testX.astype('float32')\n",
        "# normalize to range 0-1\n",
        "trainX = trainX_norm / 255.0\n",
        "testX = testX_norm / 255.0"
      ],
      "execution_count": null,
      "outputs": []
    },
    {
      "cell_type": "markdown",
      "metadata": {
        "id": "EwdGTWcaZfUQ"
      },
      "source": [
        "#Define Functions"
      ]
    },
    {
      "cell_type": "markdown",
      "metadata": {
        "id": "G7UqtaKSDne0"
      },
      "source": [
        "##to get top left corner"
      ]
    },
    {
      "cell_type": "code",
      "metadata": {
        "id": "vqn7YBU6bV5h"
      },
      "source": [
        "def extract_lowfreq(img, th):\n",
        "  clip_off = int(np.sqrt(th*2))\n",
        "  img = img[:clip_off,:clip_off]\n",
        "  s = clip_off*(clip_off+1)/2\n",
        "  img_filp = cv2.flip(img, 0) #flip over x axis\n",
        "  anti_orth = np.tril(img_filp, 0)\n",
        "  # print(anti_orth)\n",
        "  feature_vec = anti_orth.flatten('F')\n",
        "  feature_vec = [ele for ele in list(feature_vec) if ele!=0]\n",
        "  while len(feature_vec) < s:\n",
        "    feature_vec.append(0)\n",
        "  # print(len(feature_vec))\n",
        "  return feature_vec\n",
        "  "
      ],
      "execution_count": null,
      "outputs": []
    },
    {
      "cell_type": "code",
      "metadata": {
        "colab": {
          "base_uri": "https://localhost:8080/"
        },
        "id": "4IO31Bua-qqJ",
        "outputId": "f40fb786-9b79-4b42-94ff-8d7ea102d383"
      },
      "source": [
        "trainX_norm[0].shape"
      ],
      "execution_count": null,
      "outputs": [
        {
          "output_type": "execute_result",
          "data": {
            "text/plain": [
              "(28, 28)"
            ]
          },
          "metadata": {
            "tags": []
          },
          "execution_count": 49
        }
      ]
    },
    {
      "cell_type": "code",
      "metadata": {
        "colab": {
          "base_uri": "https://localhost:8080/"
        },
        "id": "NXOmz2ELCSah",
        "outputId": "7adf682c-4b63-45e3-ea18-0a2ef3650926"
      },
      "source": [
        "x = extract_lowfreq(dct2(trainX_norm[0]),45)\n",
        "np.array(x).shape"
      ],
      "execution_count": null,
      "outputs": [
        {
          "output_type": "execute_result",
          "data": {
            "text/plain": [
              "(45,)"
            ]
          },
          "metadata": {
            "tags": []
          },
          "execution_count": 21
        }
      ]
    },
    {
      "cell_type": "code",
      "metadata": {
        "id": "teHrBOA2BjfX"
      },
      "source": [
        "def extract_featue(x, th):\n",
        "  feature_vector = []\n",
        "  x_end = 10\n",
        "  while 1:\n",
        "    if x_end <= 28:\n",
        "      feature = extract_lowfreq(dct2(x[:,:x_end]),th)\n",
        "    else:\n",
        "      break\n",
        "    x_end += 1\n",
        "    feature_vector.append(feature)\n",
        "\n",
        "\n",
        "  x_start = 1\n",
        "  while 1:\n",
        "    if 28 - x_start >= 10:\n",
        "      feature = extract_lowfreq(dct2(x[:,x_start:]),th)\n",
        "    else:\n",
        "      break\n",
        "    x_start += 1\n",
        "    feature_vector.append(feature)\n",
        "  return feature_vector\n"
      ],
      "execution_count": null,
      "outputs": []
    },
    {
      "cell_type": "code",
      "metadata": {
        "colab": {
          "base_uri": "https://localhost:8080/"
        },
        "id": "9oUUwHBSL2Om",
        "outputId": "73542262-56b6-4802-983b-bc73cf374846"
      },
      "source": [
        "np.array(extract_featue(trainX_norm[1], 45)).shape"
      ],
      "execution_count": null,
      "outputs": [
        {
          "output_type": "execute_result",
          "data": {
            "text/plain": [
              "(37, 45)"
            ]
          },
          "metadata": {
            "tags": []
          },
          "execution_count": 23
        }
      ]
    },
    {
      "cell_type": "code",
      "metadata": {
        "id": "npvh4KR-U03E"
      },
      "source": [
        "def prepare_data_dct_horiz(x,y):\n",
        "  ds={}\n",
        "  for i in list(set(y)):\n",
        "    ds[i]=[]\n",
        "  for i in range(len(x)):\n",
        "    # print(i)\n",
        "    feature_vec = extract_featue(x[i], 45)\n",
        "    if len(ds[y[i]]):\n",
        "      # print(str(j) +': {}, {}'.format(np.array(feature_vec).shape, np.array(ds[y[j]]).shape))\n",
        "      ds[y[i]] = np.concatenate([ds[y[i]],feature_vec])\n",
        "    else:\n",
        "      ds[y[i]] = feature_vec\n",
        "    \n",
        "  return ds"
      ],
      "execution_count": null,
      "outputs": []
    },
    {
      "cell_type": "code",
      "metadata": {
        "id": "-h_AQdRMWJhS"
      },
      "source": [
        "trainds = prepare_data_dct_horiz(trainX[:20], trainy[:20])"
      ],
      "execution_count": null,
      "outputs": []
    },
    {
      "cell_type": "code",
      "metadata": {
        "colab": {
          "base_uri": "https://localhost:8080/"
        },
        "id": "1EnLO6jLAkTg",
        "outputId": "2abf31e4-fd7c-4551-9e5f-cc4ae459ae02"
      },
      "source": [
        "trainX[:20].shape"
      ],
      "execution_count": null,
      "outputs": [
        {
          "output_type": "execute_result",
          "data": {
            "text/plain": [
              "(20, 28, 28)"
            ]
          },
          "metadata": {
            "tags": []
          },
          "execution_count": 49
        }
      ]
    },
    {
      "cell_type": "code",
      "metadata": {
        "colab": {
          "base_uri": "https://localhost:8080/"
        },
        "id": "YBd2qKZqedTU",
        "outputId": "3922d06b-e320-466f-b128-20b1ada0f897"
      },
      "source": [
        "np.array(trainds[0]).reshape(len(trainds[0])//37, 37, 45).shape"
      ],
      "execution_count": null,
      "outputs": [
        {
          "output_type": "execute_result",
          "data": {
            "text/plain": [
              "(1, 37, 45)"
            ]
          },
          "metadata": {
            "tags": []
          },
          "execution_count": 65
        }
      ]
    },
    {
      "cell_type": "code",
      "metadata": {
        "id": "yUBh5fdYgDx2"
      },
      "source": [
        "extract_lowfreq(cv2.dct(trainX_norm[0]), 27, 27)"
      ],
      "execution_count": null,
      "outputs": []
    },
    {
      "cell_type": "markdown",
      "metadata": {
        "id": "wr2rS_hIa_7Q"
      },
      "source": [
        "##get salient feature"
      ]
    },
    {
      "cell_type": "code",
      "metadata": {
        "id": "xpXfrdCKcOFn"
      },
      "source": [
        "!pip install opencv-python==3.4.2.17\n",
        "!pip install opencv-contrib-python==3.4.2.17"
      ],
      "execution_count": null,
      "outputs": []
    },
    {
      "cell_type": "code",
      "metadata": {
        "id": "Z9R-Qzc0bEgp"
      },
      "source": [
        "def sift_descriptor(x):\n",
        "    \"\"\"\n",
        "    Create the SIFT descriptor of an image.\n",
        "    \"\"\"\n",
        "    # image = cv2.imread(data)\n",
        "    grey_img = x\n",
        "    # grey_img = cv2.cvtColor(image, cv2.COLOR_BGR2GRAY)\n",
        "\n",
        "    sift = cv2.xfeatures2d.SIFT_create()\n",
        "    kp, des = sift.detectAndCompute(grey_img, None)\n",
        "    return des"
      ],
      "execution_count": null,
      "outputs": []
    },
    {
      "cell_type": "code",
      "metadata": {
        "colab": {
          "base_uri": "https://localhost:8080/"
        },
        "id": "H9q7SlWMbGq8",
        "outputId": "cfee89ee-3e71-4632-9f87-fdf5d72e569c"
      },
      "source": [
        "plt.imshow(trainX[110])\n",
        "np.array(sift_descriptor(trainX[110])).shape\n"
      ],
      "execution_count": null,
      "outputs": [
        {
          "output_type": "execute_result",
          "data": {
            "text/plain": [
              "(11, 128)"
            ]
          },
          "metadata": {
            "tags": []
          },
          "execution_count": 8
        },
        {
          "output_type": "display_data",
          "data": {
            "image/png": "[encoded data removed]",
            "text/plain": [
              "<Figure size 432x288 with 1 Axes>"
            ]
          },
          "metadata": {
            "tags": [],
            "needs_background": "light"
          }
        }
      ]
    },
    {
      "cell_type": "code",
      "metadata": {
        "id": "H27N575YjofU"
      },
      "source": [
        "def prep_data_sift(x,y):\n",
        "  length = {}\n",
        "  ds={}\n",
        "  for i in list(set(y)):\n",
        "    ds[i]=[]\n",
        "  for i in range(len(x)):\n",
        "    feature = sift_descriptor(x[i])\n",
        "    if len(ds[y[i]]):\n",
        "      if feature is None:\n",
        "        # print(y[i])\n",
        "        continue\n",
        "      else:\n",
        "        length[y[i]].append(feature.shape[0])\n",
        "        # for hmmlearn package\n",
        "        # ds[y[i]] = np.concatenate([ds[y[i]],feature]) \n",
        "        # for sequentia\n",
        "        ds[y[i]].append(feature)\n",
        "    else:\n",
        "      # for hmmlearn\n",
        "      # ds[y[i]] = feature\n",
        "      # for sequentia\n",
        "      ds[y[i]] = [feature]\n",
        "      length[y[i]] = [feature.shape[0]]\n",
        "  return length, ds"
      ],
      "execution_count": null,
      "outputs": []
    },
    {
      "cell_type": "code",
      "metadata": {
        "id": "OTE5SzdUkd9A"
      },
      "source": [
        "length_train, training_set = prep_data_sift(trainX, trainy)\n",
        "length_test, test_set = prep_data_sift(testX, testy)"
      ],
      "execution_count": null,
      "outputs": []
    },
    {
      "cell_type": "code",
      "metadata": {
        "colab": {
          "base_uri": "https://localhost:8080/"
        },
        "id": "xGPBMfrTsKjh",
        "outputId": "a4b1ed67-4b37-4713-fc5a-e63ee7dc30ec"
      },
      "source": [
        "np.array(training_set[7][1]).shape"
      ],
      "execution_count": null,
      "outputs": [
        {
          "output_type": "execute_result",
          "data": {
            "text/plain": [
              "(3, 128)"
            ]
          },
          "metadata": {
            "tags": []
          },
          "execution_count": 56
        }
      ]
    },
    {
      "cell_type": "markdown",
      "metadata": {
        "id": "CJS-P49Tfsav"
      },
      "source": [
        "##extract feature as row bsed"
      ]
    },
    {
      "cell_type": "code",
      "metadata": {
        "id": "8LOCp920bA4G"
      },
      "source": [
        "# x = X_train[0]\n",
        "# for i in range(1,6):\n",
        "#   x = np.concatenate([x,X_train[i]])\n",
        "\n",
        "def prep_data_row(x, y):\n",
        "  ds={}\n",
        "  for i in list(set(y)):\n",
        "    ds[i]=[]\n",
        "  for i in range(len(x)):\n",
        "    if len(ds[y[i]]):\n",
        "      ds[y[i]] = np.concatenate([ds[y[i]],x[i]])\n",
        "    else:\n",
        "      ds[y[i]] = x[i]\n",
        "\n",
        "  return ds"
      ],
      "execution_count": null,
      "outputs": []
    },
    {
      "cell_type": "code",
      "metadata": {
        "id": "myX44njce4V0"
      },
      "source": [
        "training_set=prep_data_row(trainX_norm,trainy)\n",
        "test_set=prep_data_row(testX_norm,testy)"
      ],
      "execution_count": null,
      "outputs": []
    },
    {
      "cell_type": "code",
      "metadata": {
        "colab": {
          "base_uri": "https://localhost:8080/"
        },
        "id": "cXiKWa4bfXH5",
        "outputId": "7e32cb58-faa3-490a-b9c2-8971fe78c6df"
      },
      "source": [
        "\n",
        "np.array(training_set[0]).shape"
      ],
      "execution_count": null,
      "outputs": [
        {
          "output_type": "execute_result",
          "data": {
            "text/plain": [
              "(52895, 128)"
            ]
          },
          "metadata": {
            "tags": []
          },
          "execution_count": 12
        }
      ]
    },
    {
      "cell_type": "code",
      "metadata": {
        "colab": {
          "base_uri": "https://localhost:8080/"
        },
        "id": "LO6Gj5OQGgfd",
        "outputId": "98a4a27e-eed8-4650-83df-cea6059e8210"
      },
      "source": [
        "# X1 = np.random.random((10, 2))  # 2-D\n",
        "# X2 = np.random.random((5, 2))   # must have the same ndim as X1.\n",
        "# X = np.concatenate([X1, X2])\n",
        "# print(X.shape)\n",
        "# lengths = np.array([len(X1), len(X2)])\n",
        "# hmm.GaussianHMM(n_components=2).fit(X, lengths)\n",
        "# # GaussianHMM(algorithm='viterbi', covariance_type='diag', covars_prior=0.01,\n",
        "# #       covars_weight=1, init_params='stmc', means_prior=0, means_weight=0,\n",
        "# #       min_covar=0.001, n_components=2, n_iter=10, params='stmc',\n",
        "# #       random_state=None, startprob_prior=1.0, tol=0.01, transmat_prior=1.0,\n",
        "# #       verbose=False)\n"
      ],
      "execution_count": null,
      "outputs": [
        {
          "output_type": "stream",
          "text": [
            "(15, 2)\n"
          ],
          "name": "stdout"
        },
        {
          "output_type": "execute_result",
          "data": {
            "text/plain": [
              "GaussianHMM(algorithm='viterbi', covariance_type='diag', covars_prior=0.01,\n",
              "            covars_weight=1, init_params='stmc', means_prior=0, means_weight=0,\n",
              "            min_covar=0.001, n_components=2, n_iter=10, params='stmc',\n",
              "            random_state=None, startprob_prior=1.0, tol=0.01,\n",
              "            transmat_prior=1.0, verbose=False)"
            ]
          },
          "metadata": {
            "tags": []
          },
          "execution_count": 19
        }
      ]
    },
    {
      "cell_type": "markdown",
      "metadata": {
        "id": "_eDLxHF__mgj"
      },
      "source": [
        "##v3"
      ]
    },
    {
      "cell_type": "code",
      "metadata": {
        "colab": {
          "base_uri": "https://localhost:8080/"
        },
        "id": "3UOjSvolC5y6",
        "outputId": "876037af-9546-4862-c735-46bbe3c344b5"
      },
      "source": [
        "np.array(trainds[0]).shape"
      ],
      "execution_count": null,
      "outputs": [
        {
          "output_type": "execute_result",
          "data": {
            "text/plain": [
              "(37, 45)"
            ]
          },
          "metadata": {
            "tags": []
          },
          "execution_count": 46
        }
      ]
    },
    {
      "cell_type": "code",
      "metadata": {
        "id": "LP1MMb2NDgP6"
      },
      "source": [
        "# Set seed for reproducible randomness\n",
        "seed = 0\n",
        "np.random.seed(seed)\n",
        "rng = np.random.RandomState(seed)"
      ],
      "execution_count": null,
      "outputs": []
    },
    {
      "cell_type": "code",
      "metadata": {
        "id": "gNWCZOWTF-uC"
      },
      "source": [
        "from tqdm.auto import tqdm\n",
        "from sequentia.classifiers import GMMHMM, HMMClassifier"
      ],
      "execution_count": null,
      "outputs": []
    },
    {
      "cell_type": "code",
      "metadata": {
        "id": "IheMMzraBU8O"
      },
      "source": [
        "from sklearn.model_selection import KFold\n",
        "# Define the K-fold Cross Validator\n",
        "num_folds = 5\n",
        "kfold = KFold(5, True, 42)"
      ],
      "execution_count": null,
      "outputs": []
    },
    {
      "cell_type": "code",
      "metadata": {
        "colab": {
          "base_uri": "https://localhost:8080/",
          "height": 1000,
          "referenced_widgets": [
            "a7eb0383fdd747e186863c8e7c54241b",
            "9de3e26c28084a45a3f0db869e5f0a13",
            "a2fed11d2d794eae852f7a013a6cc07b",
            "904e32623d874247a881e78cacd36b62",
            "9fb3aeb9976948ab85735076987ba53c",
            "e08d78afa9394359a395fbddfad9eddd",
            "e0bf8cddd79741ce837eaa9d9395ae2a",
            "61754457c8864775818816121c0e2202",
            "c06b6bf821ff4329ae9622c819eebe7f",
            "7519928a47cb43debca370754efd0bad",
            "69e18ed9ee104fb2b7d70d42e908da46",
            "55392583758a45799e05a0e2fb6ebf95",
            "15bfaa05e216441783f03633bdc3ab18",
            "ecc6f065d94c49e0b8a437fa83f3e2f7",
            "456471b335d245788cf31df32ae3dd54",
            "e0081b2c80e24171823e114d0ac01052",
            "778274dc3fd14dd29943eb055691fc9a",
            "1547207d82f347ecb50880adcba56583",
            "8a580d54d2b648069b22789e52cbf098",
            "8eb9dd2203a8468ea54aeea024be4064",
            "a5d12fa3b32b44c6840806e436f701fd",
            "8b2b2d81c6d34a2f8659c77045096e64",
            "51828bff3e7947e584b46760f25ba62e",
            "bb56b27e5f00455e8055464cf1b07fa3",
            "1b78135373544009b22e58f3f7cfcb85",
            "f067303639194ca384ab94f3cf128168",
            "14e43d1da5af4175a3ebf7aad1abd9c2",
            "55ba7478717b4cdc858968adcd4c7eb9",
            "919bb39a500441e897e121021377d333",
            "0acc9ef7402043a1873b2c541b9479b9",
            "dee49cb960b44c0687a28649f4224cff",
            "c176de3df544416abed4d67d68a6d4d9",
            "8f05ed2eb59a4545b9b0ff8077444ef8",
            "e3c5415c39c249d5877660f288c7ecdc",
            "23f2edc2807047f6a63f95592481f241",
            "224f0ee4a70f48fca5a046d1e819fd89",
            "bd551613a62640e598a6907ca3dfb199",
            "1cab3131b1ce4046b9cf84028cd0f543",
            "0a79210da35345da81fa4529af1185c4",
            "0df43f274aa54783b73a69274e4db181",
            "775dc57981014a75b23797d4281b5d2f",
            "cbffd1c882304403a0af3c685f5a8781",
            "e1c4ba992dd443559264494b8103c8ba",
            "ff17f3bf234349cc9f744c6553c65bcf",
            "3f0cd6dfb97e4dc7841b88ed1fe05ae3",
            "a395a0cab4f24ba0ae3f8b909a5398b4",
            "91c5b7ca656d4b8296163ff4da8987f8",
            "1f26187f756b4066a094b6352750f7cf",
            "f01f4a0bd2df4aafb2cacaced6485c22",
            "a52becf4eb1b4336b2ca46151a76a668",
            "2f0f23b7da4941bfadae00c2b78bd990",
            "c2946f35d00c4a14a2c5ee662f1634fb",
            "fbe3fbf3dfef434aab96df57ab71ae69",
            "18f341afaf87410d9dc15321a352c504",
            "7ff4d704bab34d798f4af3362ba3c349",
            "25161125adc14dcab5f51af2068927ce",
            "dbdfe8352aff432b999d40cb7292691f",
            "6dbedf8629c74a4da80f912c124d77cb",
            "c34a317c2abb47519354b390bd4b3572",
            "5efee351ea204a0aa3783e86c3fc7362",
            "800d7e1ab32742198239d1edab0e2561",
            "f6533d07ad744ad59671d28e1d08978f",
            "94e29e8281a142fbb691125dccc68e7f",
            "84c3541b34fe451cbbdce7a27d66a7e3",
            "8574107350e048dda7694b17a23f1842",
            "e60e4f3417f14c8bb56ebacfa2ef0ea6",
            "2325753e76a64c7aa86c159c70622bce",
            "0f20d87d1c3c4964ab576614fb072e6d",
            "f59bc22d85ed4ea8b0f9e4290e6188f2",
            "f7a15e3d98644a98b0d005446f920c7f",
            "61b24a0058e24cb7a1294d45d24b0287",
            "ef28e19850b347548b1104a67a0e1c7a",
            "9fb28262c6c541d19334dcfdb89843c2",
            "9ea5d24952bb44628b2a4a0ea254ed45",
            "02b2e30c17dd4588a416de5cc42fac85",
            "a3bd2e948dc64225a388ee33ab528e91",
            "bc8ea2a28bdc443d8652c69cf5a8816e",
            "c9b696a12e434c0bbdeb4e3bd878f49c",
            "854007774ffc41b78597cecc91441d76",
            "8eb3a572e4fe41fd9d95acf35cb04357"
          ]
        },
        "id": "p5HCvlFM0Tpj",
        "outputId": "26546464-3c77-4425-eee3-4bcd0f130beb"
      },
      "source": [
        "# Merge inputs and targets\n",
        "images = np.concatenate((trainX[:], testX[:]), axis=0)\n",
        "labels = np.concatenate((trainy[:], testy[:]), axis=0)\n",
        "\n",
        "fold_no = 1\n",
        "epochs = 150\n",
        "acc_f = []\n",
        "cm_f = []\n",
        "loss_per_fold = []\n",
        "rec_per_fold = []\n",
        "dist = len(images)//5\n",
        "for i in range(5):\n",
        "  # Generate a print\n",
        "  print('------------------------------------------------------------------------')\n",
        "  print(f'Training for fold {fold_no} ...')\n",
        "\n",
        "  test_x = list(images)[i*dist:i*dist+dist]\n",
        "  test_y = list(labels)[i*dist:i*dist+dist]\n",
        "\n",
        "  if i != 4:\n",
        "    train_x = list(images)[:i*dist] + list(images)[i*dist+dist:] \n",
        "    train_y = list(labels)[:i*dist] + list(labels)[i*dist+dist:] \n",
        "  else:\n",
        "    train_x = list(images)[:i*dist]\n",
        "    train_y = list(labels)[:i*dist]\n",
        "\n",
        "  train_x = np.array(train_x)\n",
        "  train_y = np.array(train_y)\n",
        "  test_x = np.array(test_x)\n",
        "  test_y = np.array(test_y)\n",
        "\n",
        "\n",
        "  trainData = prepare_data_dct_horiz(train_x, train_y)\n",
        "  print(trainData[digit].shape)\n",
        "  print(np.array(trainData[digit]).reshape(len(trainData[digit])//37, 37, 45).shape)\n",
        "  hmms = []\n",
        "\n",
        "  for digit in tqdm(list(set(testy)), desc='Training HMMs'):\n",
        "      print(digit)\n",
        "      # Create a linear HMM with 5 states and 10 components in the GMM emission state distributions\n",
        "      hmm = GMMHMM(label=digit, n_states=10, random_state=rng, covariance_type='diag')\n",
        "      # Set random initial state distributions and transition matrix according to the linear topology\n",
        "      hmm.freeze('c')\n",
        "      hmm.set_random_initial()\n",
        "      hmm.set_random_transitions()\n",
        "      # Fit each HMM only on the observation sequences which had that label\n",
        "      # trainData = np.array(trainData[digit])\n",
        "      hmm.fit(list(np.array(trainData[digit]).reshape(len(trainData[digit])//37, 37, 45)))\n",
        "      hmms.append(hmm)\n",
        "      \n",
        "  clf = HMMClassifier()\n",
        "  clf.fit(hmms)\n",
        "\n",
        "  test = []\n",
        "  label_t = []\n",
        "  testyy = test_y\n",
        "  testxx = test_x\n",
        "  for i in range(len(testyy)):\n",
        "    test.append(np.array(extract_featue(testxx[i], 45)))\n",
        "    label_t.append(testyy[i])\n",
        "  \n",
        "  acc, cm = clf.evaluate(test, label_t, n_jobs=1)\n",
        "  acc_f.append(acc)\n",
        "  cm_f.append(cm)\n",
        "\n",
        "  fold_no += 1\n",
        "\n",
        "\n"
      ],
      "execution_count": null,
      "outputs": [
        {
          "output_type": "stream",
          "text": [
            "------------------------------------------------------------------------\n",
            "Training for fold 1 ...\n",
            "(205757, 45)\n",
            "(5561, 37, 45)\n"
          ],
          "name": "stdout"
        },
        {
          "output_type": "display_data",
          "data": {
            "application/vnd.jupyter.widget-view+json": {
              "model_id": "a7eb0383fdd747e186863c8e7c54241b",
              "version_minor": 0,
              "version_major": 2
            },
            "text/plain": [
              "HBox(children=(FloatProgress(value=0.0, description='Training HMMs', max=10.0, style=ProgressStyle(description…"
            ]
          },
          "metadata": {
            "tags": []
          }
        },
        {
          "output_type": "stream",
          "text": [
            "0\n",
            "1\n",
            "2\n",
            "3\n",
            "4\n",
            "5\n",
            "6\n",
            "7\n",
            "8\n",
            "9\n",
            "\n"
          ],
          "name": "stdout"
        },
        {
          "output_type": "display_data",
          "data": {
            "application/vnd.jupyter.widget-view+json": {
              "model_id": "c06b6bf821ff4329ae9622c819eebe7f",
              "version_minor": 0,
              "version_major": 2
            },
            "text/plain": [
              "HBox(children=(FloatProgress(value=0.0, description='Classifying examples (process 1)', max=14000.0, style=Pro…"
            ]
          },
          "metadata": {
            "tags": []
          }
        },
        {
          "output_type": "stream",
          "text": [
            "\n",
            "------------------------------------------------------------------------\n",
            "Training for fold 2 ...\n",
            "(205720, 45)\n",
            "(5560, 37, 45)\n"
          ],
          "name": "stdout"
        },
        {
          "output_type": "display_data",
          "data": {
            "application/vnd.jupyter.widget-view+json": {
              "model_id": "778274dc3fd14dd29943eb055691fc9a",
              "version_minor": 0,
              "version_major": 2
            },
            "text/plain": [
              "HBox(children=(FloatProgress(value=0.0, description='Training HMMs', max=10.0, style=ProgressStyle(description…"
            ]
          },
          "metadata": {
            "tags": []
          }
        },
        {
          "output_type": "stream",
          "text": [
            "0\n",
            "1\n",
            "2\n",
            "3\n",
            "4\n",
            "5\n",
            "6\n",
            "7\n",
            "8\n",
            "9\n",
            "\n"
          ],
          "name": "stdout"
        },
        {
          "output_type": "display_data",
          "data": {
            "application/vnd.jupyter.widget-view+json": {
              "model_id": "1b78135373544009b22e58f3f7cfcb85",
              "version_minor": 0,
              "version_major": 2
            },
            "text/plain": [
              "HBox(children=(FloatProgress(value=0.0, description='Classifying examples (process 1)', max=14000.0, style=Pro…"
            ]
          },
          "metadata": {
            "tags": []
          }
        },
        {
          "output_type": "stream",
          "text": [
            "\n",
            "------------------------------------------------------------------------\n",
            "Training for fold 3 ...\n",
            "(205091, 45)\n",
            "(5543, 37, 45)\n"
          ],
          "name": "stdout"
        },
        {
          "output_type": "display_data",
          "data": {
            "application/vnd.jupyter.widget-view+json": {
              "model_id": "8f05ed2eb59a4545b9b0ff8077444ef8",
              "version_minor": 0,
              "version_major": 2
            },
            "text/plain": [
              "HBox(children=(FloatProgress(value=0.0, description='Training HMMs', max=10.0, style=ProgressStyle(description…"
            ]
          },
          "metadata": {
            "tags": []
          }
        },
        {
          "output_type": "stream",
          "text": [
            "0\n",
            "1\n",
            "2\n",
            "3\n",
            "4\n",
            "5\n",
            "6\n",
            "7\n",
            "8\n",
            "9\n",
            "\n"
          ],
          "name": "stdout"
        },
        {
          "output_type": "display_data",
          "data": {
            "application/vnd.jupyter.widget-view+json": {
              "model_id": "775dc57981014a75b23797d4281b5d2f",
              "version_minor": 0,
              "version_major": 2
            },
            "text/plain": [
              "HBox(children=(FloatProgress(value=0.0, description='Classifying examples (process 1)', max=14000.0, style=Pro…"
            ]
          },
          "metadata": {
            "tags": []
          }
        },
        {
          "output_type": "stream",
          "text": [
            "\n",
            "------------------------------------------------------------------------\n",
            "Training for fold 4 ...\n",
            "(207533, 45)\n",
            "(5609, 37, 45)\n"
          ],
          "name": "stdout"
        },
        {
          "output_type": "display_data",
          "data": {
            "application/vnd.jupyter.widget-view+json": {
              "model_id": "f01f4a0bd2df4aafb2cacaced6485c22",
              "version_minor": 0,
              "version_major": 2
            },
            "text/plain": [
              "HBox(children=(FloatProgress(value=0.0, description='Training HMMs', max=10.0, style=ProgressStyle(description…"
            ]
          },
          "metadata": {
            "tags": []
          }
        },
        {
          "output_type": "stream",
          "text": [
            "0\n",
            "1\n",
            "2\n",
            "3\n",
            "4\n",
            "5\n",
            "6\n",
            "7\n",
            "8\n",
            "9\n",
            "\n"
          ],
          "name": "stdout"
        },
        {
          "output_type": "display_data",
          "data": {
            "application/vnd.jupyter.widget-view+json": {
              "model_id": "dbdfe8352aff432b999d40cb7292691f",
              "version_minor": 0,
              "version_major": 2
            },
            "text/plain": [
              "HBox(children=(FloatProgress(value=0.0, description='Classifying examples (process 1)', max=14000.0, style=Pro…"
            ]
          },
          "metadata": {
            "tags": []
          }
        },
        {
          "output_type": "stream",
          "text": [
            "\n",
            "------------------------------------------------------------------------\n",
            "Training for fold 5 ...\n",
            "(205683, 45)\n",
            "(5559, 37, 45)\n"
          ],
          "name": "stdout"
        },
        {
          "output_type": "display_data",
          "data": {
            "application/vnd.jupyter.widget-view+json": {
              "model_id": "8574107350e048dda7694b17a23f1842",
              "version_minor": 0,
              "version_major": 2
            },
            "text/plain": [
              "HBox(children=(FloatProgress(value=0.0, description='Training HMMs', max=10.0, style=ProgressStyle(description…"
            ]
          },
          "metadata": {
            "tags": []
          }
        },
        {
          "output_type": "stream",
          "text": [
            "0\n",
            "1\n",
            "2\n",
            "3\n",
            "4\n",
            "5\n",
            "6\n",
            "7\n",
            "8\n",
            "9\n",
            "\n"
          ],
          "name": "stdout"
        },
        {
          "output_type": "display_data",
          "data": {
            "application/vnd.jupyter.widget-view+json": {
              "model_id": "9fb28262c6c541d19334dcfdb89843c2",
              "version_minor": 0,
              "version_major": 2
            },
            "text/plain": [
              "HBox(children=(FloatProgress(value=0.0, description='Classifying examples (process 1)', max=14000.0, style=Pro…"
            ]
          },
          "metadata": {
            "tags": []
          }
        },
        {
          "output_type": "stream",
          "text": [
            "\n"
          ],
          "name": "stdout"
        }
      ]
    },
    {
      "cell_type": "code",
      "metadata": {
        "id": "N68LWifn-04m"
      },
      "source": [
        "trainData.shape"
      ],
      "execution_count": null,
      "outputs": []
    },
    {
      "cell_type": "code",
      "metadata": {
        "id": "2yFR0p1drAqJ"
      },
      "source": [
        "labels[train]"
      ],
      "execution_count": null,
      "outputs": []
    },
    {
      "cell_type": "markdown",
      "metadata": {
        "id": "8ZqPPb5RV_aX"
      },
      "source": [
        "**for 200 data**"
      ]
    },
    {
      "cell_type": "code",
      "metadata": {
        "colab": {
          "base_uri": "https://localhost:8080/"
        },
        "id": "4aD87Wh5XcgE",
        "outputId": "6096e157-ad39-4a8b-8f00-ce4a12b4f1eb"
      },
      "source": [
        "# == Provide average scores ==\n",
        "print('------------------------------------------------------------------------')\n",
        "print('Score per fold')\n",
        "for i in range(0, len(acc_f)):\n",
        "  print('------------------------------------------------------------------------')\n",
        "  print(f'> Fold {i+1} - Accuracy: {acc_f[i]}% ')\n",
        "print('------------------------------------------------------------------------')\n",
        "print('Average scores for all folds:')\n",
        "print(f'> Accuracy: {np.mean(acc_f)} (+- {np.std(acc_f)})')\n",
        "print('------------------------------------------------------------------------')"
      ],
      "execution_count": null,
      "outputs": [
        {
          "output_type": "stream",
          "text": [
            "------------------------------------------------------------------------\n",
            "Score per fold\n",
            "------------------------------------------------------------------------\n",
            "> Fold 1 - Accuracy: 0.6% \n",
            "------------------------------------------------------------------------\n",
            "> Fold 2 - Accuracy: 0.525% \n",
            "------------------------------------------------------------------------\n",
            "> Fold 3 - Accuracy: 0.65% \n",
            "------------------------------------------------------------------------\n",
            "> Fold 4 - Accuracy: 0.55% \n",
            "------------------------------------------------------------------------\n",
            "> Fold 5 - Accuracy: 0.525% \n",
            "------------------------------------------------------------------------\n",
            "Average scores for all folds:\n",
            "> Accuracy: 0.5700000000000001 (+- 0.04847679857416329)\n",
            "------------------------------------------------------------------------\n"
          ],
          "name": "stdout"
        }
      ]
    },
    {
      "cell_type": "markdown",
      "metadata": {
        "id": "7sjsti7gc0Uy"
      },
      "source": [
        "**for 2000 data**"
      ]
    },
    {
      "cell_type": "code",
      "metadata": {
        "colab": {
          "base_uri": "https://localhost:8080/"
        },
        "id": "YD14VxgPc0U1",
        "outputId": "c01c0291-ab22-467f-f777-f28e5424f8ea"
      },
      "source": [
        "# == Provide average scores ==\n",
        "print('------------------------------------------------------------------------')\n",
        "print('Score per fold')\n",
        "for i in range(0, len(acc_f)):\n",
        "  print('------------------------------------------------------------------------')\n",
        "  print(f'> Fold {i+1} - Accuracy: {acc_f[i]}% ')\n",
        "print('------------------------------------------------------------------------')\n",
        "print('Average scores for all folds:')\n",
        "print(f'> Accuracy: {np.mean(acc_f)} (+- {np.std(acc_f)})')\n",
        "print('------------------------------------------------------------------------')"
      ],
      "execution_count": null,
      "outputs": [
        {
          "output_type": "stream",
          "text": [
            "------------------------------------------------------------------------\n",
            "Score per fold\n",
            "------------------------------------------------------------------------\n",
            "> Fold 1 - Accuracy: 0.56% \n",
            "------------------------------------------------------------------------\n",
            "> Fold 2 - Accuracy: 0.47% \n",
            "------------------------------------------------------------------------\n",
            "> Fold 3 - Accuracy: 0.5425% \n",
            "------------------------------------------------------------------------\n",
            "> Fold 4 - Accuracy: 0.4975% \n",
            "------------------------------------------------------------------------\n",
            "> Fold 5 - Accuracy: 0.6125% \n",
            "------------------------------------------------------------------------\n",
            "Average scores for all folds:\n",
            "> Accuracy: 0.5365 (+- 0.04961350622562371)\n",
            "------------------------------------------------------------------------\n"
          ],
          "name": "stdout"
        }
      ]
    },
    {
      "cell_type": "markdown",
      "metadata": {
        "id": "u0F_-12DWGua"
      },
      "source": [
        "**all data**"
      ]
    },
    {
      "cell_type": "code",
      "metadata": {
        "colab": {
          "base_uri": "https://localhost:8080/"
        },
        "id": "21CeV0rgWGub",
        "outputId": "7eb638db-daca-48d6-8ad5-dfc64be21074"
      },
      "source": [
        "# == Provide average scores ==\n",
        "print('------------------------------------------------------------------------')\n",
        "print('Score per fold')\n",
        "for i in range(0, len(acc_f)):\n",
        "  print('------------------------------------------------------------------------')\n",
        "  print(f'> Fold {i+1} - Accuracy: {acc_f[i]}% ')\n",
        "print('------------------------------------------------------------------------')\n",
        "print('Average scores for all folds:')\n",
        "print(f'> Accuracy: {np.mean(acc_f)} (+- {np.std(acc_f)})')\n",
        "print('------------------------------------------------------------------------')"
      ],
      "execution_count": null,
      "outputs": [
        {
          "output_type": "stream",
          "text": [
            "------------------------------------------------------------------------\n",
            "Score per fold\n",
            "------------------------------------------------------------------------\n",
            "> Fold 1 - Accuracy: 0.5623571428571429% \n",
            "------------------------------------------------------------------------\n",
            "> Fold 2 - Accuracy: 0.5499285714285714% \n",
            "------------------------------------------------------------------------\n",
            "> Fold 3 - Accuracy: 0.5448571428571428% \n",
            "------------------------------------------------------------------------\n",
            "> Fold 4 - Accuracy: 0.5693571428571429% \n",
            "------------------------------------------------------------------------\n",
            "> Fold 5 - Accuracy: 0.635% \n",
            "------------------------------------------------------------------------\n",
            "Average scores for all folds:\n",
            "> Accuracy: 0.5722999999999999 (+- 0.03253429587624828)\n",
            "------------------------------------------------------------------------\n"
          ],
          "name": "stdout"
        }
      ]
    },
    {
      "cell_type": "code",
      "metadata": {
        "colab": {
          "base_uri": "https://localhost:8080/"
        },
        "id": "2DdMuGirZUER",
        "outputId": "42765a10-a966-4a41-d542-27edb70e56ec"
      },
      "source": [
        "hmms[0].n_components"
      ],
      "execution_count": null,
      "outputs": [
        {
          "output_type": "execute_result",
          "data": {
            "text/plain": [
              "2"
            ]
          },
          "metadata": {
            "tags": []
          },
          "execution_count": 137
        }
      ]
    },
    {
      "cell_type": "code",
      "metadata": {
        "id": "qaB6vHwWLE5p"
      },
      "source": [
        "test = []\n",
        "label_t = []\n",
        "testyy = testy[:2000]\n",
        "testxx = testX[:2000]\n",
        "for i in range(len(testyy)):\n",
        "  test.append(np.array(extract_featue(testxx[i], 45)))\n",
        "  label_t.append(testyy[i])\n",
        "  \n"
      ],
      "execution_count": null,
      "outputs": []
    },
    {
      "cell_type": "markdown",
      "metadata": {
        "id": "to8-goLGPAAQ"
      },
      "source": [
        "## Hybrid model"
      ]
    },
    {
      "cell_type": "code",
      "metadata": {
        "id": "92hbiPKMPYEP"
      },
      "source": [
        "from tensorflow import keras\n",
        "import tensorflow as tf"
      ],
      "execution_count": null,
      "outputs": []
    },
    {
      "cell_type": "code",
      "metadata": {
        "id": "OSEQ-QgWPXSq"
      },
      "source": [
        "from tensorflow.keras import metrics\n",
        "model = keras.Sequential([keras.layers.Flatten(input_shape=(1,10)),\n",
        "                # keras.layers.Dense(10,activation = tf.nn.sigmoid),                          \n",
        "                keras.layers.Dense(10,activation = tf.nn.softmax)])\n",
        "model.compile(optimizer = 'adam',loss='categorical_crossentropy',metrics=['accuracy', metrics.Precision(), metrics.Recall()])"
      ],
      "execution_count": null,
      "outputs": []
    },
    {
      "cell_type": "code",
      "metadata": {
        "id": "RtyCPoPzeKXM"
      },
      "source": [
        "test = []\n",
        "label_t = []\n",
        "yy = labels\n",
        "xx = images\n",
        "for i in range(len(yy)):\n",
        "  test.append(np.array(extract_featue(xx[i], 45)))\n",
        "  label_t.append(yy[i])"
      ],
      "execution_count": null,
      "outputs": []
    },
    {
      "cell_type": "code",
      "metadata": {
        "colab": {
          "base_uri": "https://localhost:8080/",
          "height": 65,
          "referenced_widgets": [
            "476c380e8dfb4ee4b10711d61572bbfc",
            "39cb97b606a546c09dda0d1bdcf7e779",
            "3c8257308996450888e110bd464eaadb",
            "7b5d1c8e85804a9298ba3d042dae7f70",
            "bce75fec03dc4b7196f04dbfc862f8c3",
            "52d77d894e66433ab85fda28b190fc57",
            "c25c03997c724d9786a37344bf060318",
            "d221322e97c4490f8fbfe6d0f87f1d60"
          ]
        },
        "id": "dEPfjViaZt69",
        "outputId": "2327b4e6-fc1d-4b90-e7ea-77a0665a2f85"
      },
      "source": [
        "predictions = clf.predict(test)"
      ],
      "execution_count": null,
      "outputs": [
        {
          "output_type": "display_data",
          "data": {
            "application/vnd.jupyter.widget-view+json": {
              "model_id": "476c380e8dfb4ee4b10711d61572bbfc",
              "version_minor": 0,
              "version_major": 2
            },
            "text/plain": [
              "HBox(children=(FloatProgress(value=0.0, description='Classifying examples (process 1)', max=70000.0, style=Pro…"
            ]
          },
          "metadata": {
            "tags": []
          }
        },
        {
          "output_type": "stream",
          "text": [
            "\n"
          ],
          "name": "stdout"
        }
      ]
    },
    {
      "cell_type": "code",
      "metadata": {
        "id": "BmD0RrOgfrMN"
      },
      "source": [
        "predictions = predictions.reshape(len(predictions),1,10)"
      ],
      "execution_count": null,
      "outputs": []
    },
    {
      "cell_type": "code",
      "metadata": {
        "id": "zLJWQL6keZr1"
      },
      "source": [
        "from tensorflow.keras.utils import to_categorical\n",
        "\n",
        "predictions = to_categorical(predictions)\n",
        "label = to_categorical(label_t)"
      ],
      "execution_count": null,
      "outputs": []
    },
    {
      "cell_type": "code",
      "metadata": {
        "id": "1Hc4RyiYYT4v"
      },
      "source": [
        "from tensorflow.keras.callbacks import EarlyStopping"
      ],
      "execution_count": null,
      "outputs": []
    },
    {
      "cell_type": "code",
      "metadata": {
        "id": "nfK7aXyCYbke"
      },
      "source": [
        "early_stop = EarlyStopping(monitor='val_loss', patience=20)"
      ],
      "execution_count": null,
      "outputs": []
    },
    {
      "cell_type": "code",
      "metadata": {
        "colab": {
          "base_uri": "https://localhost:8080/"
        },
        "id": "kGz8poktfUog",
        "outputId": "a7698fd6-150f-4c7d-8a4f-07301d5ebc4e"
      },
      "source": [
        " history = model.fit(predictions, label,epochs = 150, validation_split=0.1, callbacks=[early_stop], verbose=1)"
      ],
      "execution_count": null,
      "outputs": [
        {
          "output_type": "stream",
          "text": [
            "Epoch 1/150\n",
            "1969/1969 [==============================] - 3s 2ms/step - loss: 1.3304 - accuracy: 0.6160 - precision_1: 0.6782 - recall_1: 0.4063 - val_loss: 1.1741 - val_accuracy: 0.6491 - val_precision_1: 0.6908 - val_recall_1: 0.5299\n",
            "Epoch 2/150\n",
            "1969/1969 [==============================] - 9s 5ms/step - loss: 1.2124 - accuracy: 0.6233 - precision_1: 0.6531 - recall_1: 0.5566 - val_loss: 1.1290 - val_accuracy: 0.6491 - val_precision_1: 0.6682 - val_recall_1: 0.6111\n",
            "Epoch 3/150\n",
            "1969/1969 [==============================] - 3s 2ms/step - loss: 1.1913 - accuracy: 0.6233 - precision_1: 0.6509 - recall_1: 0.5701 - val_loss: 1.1174 - val_accuracy: 0.6491 - val_precision_1: 0.6720 - val_recall_1: 0.5910\n",
            "Epoch 4/150\n",
            "1969/1969 [==============================] - 3s 1ms/step - loss: 1.1852 - accuracy: 0.6233 - precision_1: 0.6528 - recall_1: 0.5649 - val_loss: 1.1129 - val_accuracy: 0.6491 - val_precision_1: 0.6720 - val_recall_1: 0.5910\n",
            "Epoch 5/150\n",
            "1969/1969 [==============================] - 3s 2ms/step - loss: 1.1831 - accuracy: 0.6233 - precision_1: 0.6541 - recall_1: 0.5611 - val_loss: 1.1117 - val_accuracy: 0.6491 - val_precision_1: 0.6720 - val_recall_1: 0.5910\n",
            "Epoch 6/150\n",
            "1969/1969 [==============================] - 3s 2ms/step - loss: 1.1822 - accuracy: 0.6233 - precision_1: 0.6535 - recall_1: 0.5631 - val_loss: 1.1108 - val_accuracy: 0.6491 - val_precision_1: 0.6720 - val_recall_1: 0.5910\n",
            "Epoch 7/150\n",
            "1969/1969 [==============================] - 3s 1ms/step - loss: 1.1818 - accuracy: 0.6233 - precision_1: 0.6539 - recall_1: 0.5631 - val_loss: 1.1101 - val_accuracy: 0.6491 - val_precision_1: 0.6682 - val_recall_1: 0.6111\n",
            "Epoch 8/150\n",
            "1969/1969 [==============================] - 3s 2ms/step - loss: 1.1816 - accuracy: 0.6233 - precision_1: 0.6504 - recall_1: 0.5720 - val_loss: 1.1105 - val_accuracy: 0.6491 - val_precision_1: 0.6720 - val_recall_1: 0.5910\n",
            "Epoch 9/150\n",
            "1969/1969 [==============================] - 3s 2ms/step - loss: 1.1815 - accuracy: 0.6233 - precision_1: 0.6531 - recall_1: 0.5636 - val_loss: 1.1102 - val_accuracy: 0.6491 - val_precision_1: 0.6720 - val_recall_1: 0.5910\n",
            "Epoch 10/150\n",
            "1969/1969 [==============================] - 3s 2ms/step - loss: 1.1815 - accuracy: 0.6233 - precision_1: 0.6525 - recall_1: 0.5666 - val_loss: 1.1101 - val_accuracy: 0.6491 - val_precision_1: 0.6720 - val_recall_1: 0.5910\n",
            "Epoch 11/150\n",
            "1969/1969 [==============================] - 3s 2ms/step - loss: 1.1814 - accuracy: 0.6233 - precision_1: 0.6542 - recall_1: 0.5616 - val_loss: 1.1100 - val_accuracy: 0.6491 - val_precision_1: 0.6682 - val_recall_1: 0.6111\n",
            "Epoch 12/150\n",
            "1969/1969 [==============================] - 3s 2ms/step - loss: 1.1814 - accuracy: 0.6233 - precision_1: 0.6522 - recall_1: 0.5670 - val_loss: 1.1102 - val_accuracy: 0.6491 - val_precision_1: 0.6720 - val_recall_1: 0.5910\n",
            "Epoch 13/150\n",
            "1969/1969 [==============================] - 3s 2ms/step - loss: 1.1814 - accuracy: 0.6233 - precision_1: 0.6539 - recall_1: 0.5620 - val_loss: 1.1095 - val_accuracy: 0.6491 - val_precision_1: 0.6720 - val_recall_1: 0.5910\n",
            "Epoch 14/150\n",
            "1969/1969 [==============================] - 3s 2ms/step - loss: 1.1814 - accuracy: 0.6233 - precision_1: 0.6522 - recall_1: 0.5660 - val_loss: 1.1101 - val_accuracy: 0.6491 - val_precision_1: 0.6720 - val_recall_1: 0.5910\n",
            "Epoch 15/150\n",
            "1969/1969 [==============================] - 3s 2ms/step - loss: 1.1813 - accuracy: 0.6233 - precision_1: 0.6522 - recall_1: 0.5668 - val_loss: 1.1107 - val_accuracy: 0.6491 - val_precision_1: 0.6720 - val_recall_1: 0.5910\n",
            "Epoch 16/150\n",
            "1969/1969 [==============================] - 3s 2ms/step - loss: 1.1813 - accuracy: 0.6233 - precision_1: 0.6546 - recall_1: 0.5605 - val_loss: 1.1098 - val_accuracy: 0.6491 - val_precision_1: 0.6720 - val_recall_1: 0.5910\n",
            "Epoch 17/150\n",
            "1969/1969 [==============================] - 3s 2ms/step - loss: 1.1813 - accuracy: 0.6233 - precision_1: 0.6527 - recall_1: 0.5654 - val_loss: 1.1099 - val_accuracy: 0.6491 - val_precision_1: 0.6720 - val_recall_1: 0.5910\n",
            "Epoch 18/150\n",
            "1969/1969 [==============================] - 3s 2ms/step - loss: 1.1814 - accuracy: 0.6233 - precision_1: 0.6531 - recall_1: 0.5647 - val_loss: 1.1098 - val_accuracy: 0.6491 - val_precision_1: 0.6720 - val_recall_1: 0.5910\n",
            "Epoch 19/150\n",
            "1969/1969 [==============================] - 3s 2ms/step - loss: 1.1813 - accuracy: 0.6233 - precision_1: 0.6529 - recall_1: 0.5635 - val_loss: 1.1101 - val_accuracy: 0.6491 - val_precision_1: 0.6720 - val_recall_1: 0.5910\n",
            "Epoch 20/150\n",
            "1969/1969 [==============================] - 3s 2ms/step - loss: 1.1814 - accuracy: 0.6233 - precision_1: 0.6529 - recall_1: 0.5643 - val_loss: 1.1100 - val_accuracy: 0.6491 - val_precision_1: 0.6720 - val_recall_1: 0.5910\n",
            "Epoch 21/150\n",
            "1969/1969 [==============================] - 3s 1ms/step - loss: 1.1814 - accuracy: 0.6233 - precision_1: 0.6533 - recall_1: 0.5642 - val_loss: 1.1100 - val_accuracy: 0.6491 - val_precision_1: 0.6720 - val_recall_1: 0.5910\n",
            "Epoch 22/150\n",
            "1969/1969 [==============================] - 3s 2ms/step - loss: 1.1813 - accuracy: 0.6233 - precision_1: 0.6544 - recall_1: 0.5607 - val_loss: 1.1104 - val_accuracy: 0.6491 - val_precision_1: 0.6720 - val_recall_1: 0.5910\n",
            "Epoch 23/150\n",
            "1969/1969 [==============================] - 3s 2ms/step - loss: 1.1813 - accuracy: 0.6233 - precision_1: 0.6513 - recall_1: 0.5695 - val_loss: 1.1098 - val_accuracy: 0.6491 - val_precision_1: 0.6720 - val_recall_1: 0.5910\n",
            "Epoch 24/150\n",
            "1969/1969 [==============================] - 3s 2ms/step - loss: 1.1814 - accuracy: 0.6233 - precision_1: 0.6546 - recall_1: 0.5605 - val_loss: 1.1101 - val_accuracy: 0.6491 - val_precision_1: 0.6720 - val_recall_1: 0.5910\n",
            "Epoch 25/150\n",
            "1969/1969 [==============================] - 3s 2ms/step - loss: 1.1814 - accuracy: 0.6233 - precision_1: 0.6534 - recall_1: 0.5641 - val_loss: 1.1102 - val_accuracy: 0.6491 - val_precision_1: 0.6720 - val_recall_1: 0.5910\n",
            "Epoch 26/150\n",
            "1969/1969 [==============================] - 3s 2ms/step - loss: 1.1814 - accuracy: 0.6233 - precision_1: 0.6518 - recall_1: 0.5663 - val_loss: 1.1100 - val_accuracy: 0.6491 - val_precision_1: 0.6720 - val_recall_1: 0.5910\n",
            "Epoch 27/150\n",
            "1969/1969 [==============================] - 3s 2ms/step - loss: 1.1813 - accuracy: 0.6233 - precision_1: 0.6539 - recall_1: 0.5624 - val_loss: 1.1102 - val_accuracy: 0.6491 - val_precision_1: 0.6720 - val_recall_1: 0.5910\n",
            "Epoch 28/150\n",
            "1969/1969 [==============================] - 3s 2ms/step - loss: 1.1814 - accuracy: 0.6233 - precision_1: 0.6529 - recall_1: 0.5651 - val_loss: 1.1098 - val_accuracy: 0.6491 - val_precision_1: 0.6720 - val_recall_1: 0.5910\n",
            "Epoch 29/150\n",
            "1969/1969 [==============================] - 3s 2ms/step - loss: 1.1814 - accuracy: 0.6233 - precision_1: 0.6531 - recall_1: 0.5641 - val_loss: 1.1102 - val_accuracy: 0.6491 - val_precision_1: 0.6720 - val_recall_1: 0.5910\n",
            "Epoch 30/150\n",
            "1969/1969 [==============================] - 3s 2ms/step - loss: 1.1813 - accuracy: 0.6233 - precision_1: 0.6546 - recall_1: 0.5605 - val_loss: 1.1098 - val_accuracy: 0.6491 - val_precision_1: 0.6720 - val_recall_1: 0.5910\n",
            "Epoch 31/150\n",
            "1969/1969 [==============================] - 3s 2ms/step - loss: 1.1814 - accuracy: 0.6233 - precision_1: 0.6530 - recall_1: 0.5643 - val_loss: 1.1097 - val_accuracy: 0.6491 - val_precision_1: 0.6720 - val_recall_1: 0.5910\n",
            "Epoch 32/150\n",
            "1969/1969 [==============================] - 3s 2ms/step - loss: 1.1813 - accuracy: 0.6233 - precision_1: 0.6537 - recall_1: 0.5623 - val_loss: 1.1100 - val_accuracy: 0.6491 - val_precision_1: 0.6720 - val_recall_1: 0.5910\n",
            "Epoch 33/150\n",
            "1969/1969 [==============================] - 3s 2ms/step - loss: 1.1814 - accuracy: 0.6233 - precision_1: 0.6531 - recall_1: 0.5643 - val_loss: 1.1101 - val_accuracy: 0.6491 - val_precision_1: 0.6720 - val_recall_1: 0.5910\n"
          ],
          "name": "stdout"
        }
      ]
    }
  ]
}